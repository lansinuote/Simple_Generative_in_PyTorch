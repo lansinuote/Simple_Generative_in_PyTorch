{
 "cells": [
  {
   "cell_type": "code",
   "execution_count": 1,
   "metadata": {},
   "outputs": [
    {
     "data": {
      "text/html": [
       "\n",
       "                <div id='midiPlayerDiv6624'></div>\n",
       "                <link rel=\"stylesheet\" href=\"//cuthbertLab.github.io/music21j/css/m21.css\"\n",
       "                    type=\"text/css\" />\n",
       "                <script>\n",
       "                require.config({\n",
       "                    paths: {'music21': '//cuthbertLab.github.io/music21j/src/music21'}\n",
       "                });\n",
       "                require(['music21'], function() {\n",
       "                               mp = new music21.miditools.MidiPlayer();\n",
       "                               mp.addPlayer('#midiPlayerDiv6624');\n",
       "                               mp.base64Load('data:audio/midi;base64,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');\n",
       "                        });\n",
       "                </script>"
      ],
      "text/plain": [
       "<IPython.core.display.HTML object>"
      ]
     },
     "metadata": {},
     "output_type": "display_data"
    }
   ],
   "source": [
    "import music21\n",
    "\n",
    "\n",
    "def show(file):\n",
    "    f = music21.midi.MidiFile()\n",
    "    f.open(file)\n",
    "    f.read()\n",
    "    f.close()\n",
    "    music21.midi.translate.midiFileToStream(f).show('midi')\n",
    "\n",
    "\n",
    "show('../datas/cello/cs2-2all.mid')"
   ]
  },
  {
   "cell_type": "code",
   "execution_count": 2,
   "metadata": {},
   "outputs": [
    {
     "name": "stdout",
     "output_type": "stream",
     "text": [
      "([['START', 'A3', 'D2.A2.F3.A3', 'B-3', 'A3', 'G3', 'F3', 'E3', 'D3', 'D3', 'C#3', 'D3', 'E3', 'A2', 'B-2', 'G2', 'F2', 'A2', 'D3', 'F2', 'E2', 'C#3', 'D2.A2.D3', 'E3', 'F3', 'G3', 'A3', 'B-3', 'D2.A2.F#3.C4', 'D4', 'E-4', 'D4', 'C4', 'B-3', 'A3', 'C4', 'B-3', 'A3', 'G3', 'D4', 'F3', 'E3', 'G3', 'B-3', 'D4', 'C4', 'B-3', 'A3', 'G3', 'B-3', 'A3', 'G3', 'F3', 'F3.A3', 'F3.A3', 'B3', 'F3', 'E3', 'D3', 'E3', 'C#4', 'D4', 'C#4', 'D3.D4', 'E4', 'F4', 'E4', 'D4', 'E4', 'D4', 'C4', 'B3', 'C4', 'B3', 'A3', 'G#3', 'A3', 'G#3', 'F#3', 'E3', 'E4', 'C4', 'A3', 'G3', 'F3.E4', 'A3', 'F3', 'D3', 'B2.D3', 'F3', 'D3', 'B2', 'G#2', 'B2', 'E3', 'G#3', 'B3', 'D4', 'C4', 'B3', 'C4', 'A3', 'F3', 'E3', 'D3', 'F3', 'E3', 'D3', 'G#3', 'A3', 'B3', 'D4', 'E3', 'D3', 'C3', 'E3', 'A3', 'D4', 'E3.B3', 'A3', 'E-3.A3', 'E-3', 'E3', 'F#3.G#3', 'A3.B3', 'C4', 'D4', 'C4', 'B3', 'A3.C4', 'D3', 'G#3', 'A3', 'B3', 'A3', 'G#3', 'F#3', 'E3', 'C3.E3.A3', 'F3', 'E3', 'D3', 'C3', 'B2', 'A2', 'G#2.D3.B3', 'E3', 'F3', 'E3', 'D3', 'C3', 'B2', 'D4', 'B3', 'C4', 'A3', 'E3', 'G#3', 'A2', 'C#3', 'E3', 'G3', 'F3', 'E3', 'F3', 'A3', 'D4', 'G#3', 'A3', 'A3', 'D2.A2.F3.A3', 'B-3', 'A3', 'G3', 'F3', 'E3', 'D3', 'D3', 'C#3', 'D3', 'E3', 'A2', 'B-2', 'G2', 'F2', 'A2', 'D3', 'F2', 'E2', 'C#3', 'D2.A2.D3', 'E3', 'F3', 'G3', 'A3', 'B-3', 'D2.A2.F#3.C4', 'D4', 'E-4', 'D4', 'C4', 'B-3', 'A3', 'C4', 'B-3', 'A3', 'G3', 'D4', 'F3', 'E3', 'G3', 'B-3', 'D4', 'C4', 'B-3', 'A3', 'G3', 'B-3', 'A3', 'G3', 'F3', 'F3.A3', 'F3.A3', 'B3', 'F3', 'E3', 'D3', 'E3', 'C#4', 'D4', 'C#4', 'D3.D4', 'E4', 'F4', 'E4', 'D4', 'E4', 'D4', 'C4', 'B3', 'C4', 'B3', 'A3', 'G#3', 'A3', 'G#3', 'F#3', 'E3', 'E4', 'C4', 'A3', 'G3', 'F3.E4', 'A3', 'F3', 'D3', 'B2.D3', 'F3', 'D3', 'B2', 'G#2', 'B2', 'E3', 'G#3', 'B3', 'D4', 'C4', 'B3', 'C4', 'A3', 'F3', 'E3', 'D3', 'F3', 'E3', 'D3', 'G#3', 'A3', 'B3', 'D4', 'E3', 'D3', 'C3', 'E3', 'A3', 'D4', 'E3.B3', 'A3', 'E-3.A3', 'E-3', 'E3', 'F#3.G#3', 'A3.B3', 'C4', 'D4', 'C4', 'B3', 'A3.C4', 'D3', 'G#3', 'A3', 'B3', 'A3', 'G#3', 'F#3', 'E3', 'C3.E3.A3', 'F3', 'E3', 'D3', 'C3', 'B2', 'A2', 'G#2.D3.B3', 'E3', 'F3', 'E3', 'D3', 'C3', 'B2', 'D4', 'B3', 'C4', 'A3', 'E3', 'G#3', 'A2', 'C#3', 'E3', 'G3', 'F3', 'E3', 'F3', 'A3', 'D4', 'G#3', 'A3', 'E3', 'A2.E3.C#4', 'F3', 'G3', 'E3', 'F3', 'A3', 'C#3', 'D3', 'E3', 'B-2', 'A2', 'G2', 'F2', 'A3', 'F3', 'D3', 'G3', 'B2', 'C#3', 'A3', 'G3', 'F3', 'E3', 'D3', 'F#3', 'D3', 'E-3', 'C3', 'B-2', 'G3', 'A2', 'G2', 'F#2', 'A2', 'D3', 'C4', 'B-3', 'F#3', 'G3', 'B-3', 'D4', 'A3', 'B-3', 'G3', 'E-3', 'D3', 'E-3', 'G3', 'C4', 'A3', 'B-3', 'G3', 'D3', 'C3', 'D3', 'G3', 'B-3', 'F#3', 'G3', 'E-3', 'C3', 'B-2', 'C3', 'B-3', 'A3', 'C4', 'E-4', 'G3', 'C3.F#3', 'G3', 'A3', 'D3', 'E-3', 'C3', 'B-2', 'D3', 'G3', 'B-2', 'D2', 'F#3', 'G2.G3', 'A3', 'B-3', 'D4', 'G3', 'F3', 'B-2.E3', 'F3', 'G3', 'E3', 'C3', 'B-2', 'A2', 'F3', 'G2', 'F2', 'E2', 'G3', 'A3', 'B-3', 'B-3', 'A3', 'G3', 'F3', 'A3', 'E3', 'F3', 'D3', 'B-2', 'D3', 'F3', 'A3', 'D4', 'A3', 'B-3', 'G3', 'A2', 'G3', 'C#4', 'D4', 'E4', 'G3', 'A3', 'E3', 'F3', 'D3', 'B-2', 'D3', 'G#2', 'F3', 'E3', 'D3', 'D3', 'C#3', 'B2', 'A2', 'C3', 'A2', 'F#2', 'D3', 'C3', 'A2', 'B2', 'D3', 'F3', 'D3', 'G#2', 'D3', 'C#3', 'E3', 'G3', 'B-3', 'E4', 'A3', 'B-3', 'G3', 'F3', 'C#3', 'D3', 'G#2', 'A2', 'C#3', 'D2', 'D4', 'C4', 'A3', 'B-3', 'G3', 'E3', 'C#4', 'D4', 'A3', 'F3', 'D3', 'D2', 'E3', 'A2.E3.C#4', 'F3', 'G3', 'E3', 'F3', 'A3', 'C#3', 'D3', 'E3', 'B-2', 'A2', 'G2', 'F2', 'A3', 'F3', 'D3', 'G3', 'B2', 'C#3', 'A3', 'G3', 'F3', 'E3', 'D3', 'F#3', 'D3', 'E-3', 'C3', 'B-2', 'G3', 'A2', 'G2', 'F#2', 'A2', 'D3', 'C4', 'B-3', 'F#3', 'G3', 'B-3', 'D4', 'A3', 'B-3', 'G3', 'E-3', 'D3', 'E-3', 'G3', 'C4', 'A3', 'B-3', 'G3', 'D3', 'C3', 'D3', 'G3', 'B-3', 'F#3', 'G3', 'E-3', 'C3', 'B-2', 'C3', 'B-3', 'A3', 'C4', 'E-4', 'G3', 'C3.F#3', 'G3', 'A3', 'D3', 'E-3', 'C3', 'B-2', 'D3', 'G3', 'B-2', 'D2', 'F#3', 'G2.G3', 'A3', 'B-3', 'D4', 'G3', 'F3', 'B-2.E3', 'F3', 'G3', 'E3', 'C3', 'B-2', 'A2', 'F3', 'G2', 'F2', 'E2', 'G3', 'A3', 'B-3', 'B-3', 'A3', 'G3', 'F3', 'A3', 'E3', 'F3', 'D3', 'B-2', 'D3', 'F3', 'A3', 'D4', 'A3', 'B-3', 'G3', 'A2', 'G3', 'C#4', 'D4', 'E4', 'G3', 'A3', 'E3', 'F3', 'D3', 'B-2', 'D3', 'G#2', 'F3', 'E3', 'D3', 'D3', 'C#3', 'B2', 'A2', 'C3', 'A2', 'F#2', 'D3', 'C3', 'A2', 'B2', 'D3', 'F3', 'D3', 'G#2', 'D3', 'C#3', 'E3', 'G3', 'B-3', 'E4', 'A3', 'B-3', 'G3', 'F3', 'C#3', 'D3', 'G#2', 'A2', 'C#3', 'D2', 'D4', 'C4', 'A3', 'B-3', 'G3', 'E3', 'C#4', 'D4', 'A3', 'F3', 'D3', 'D2', 'START'], ['START', 'B-3', 'E-2.B-2.F#3.B-3', 'B3', 'B-3', 'G#3', 'F#3', 'F3', 'E-3', 'E-3', 'D3', 'E-3', 'F3', 'B-2', 'B2', 'G#2', 'F#2', 'B-2', 'E-3', 'F#2', 'F2', 'D3', 'E-2.B-2.E-3', 'F3', 'F#3', 'G#3', 'B-3', 'B3', 'E-2.B-2.G3.C#4', 'E-4', 'E4', 'E-4', 'C#4', 'B3', 'B-3', 'C#4', 'B3', 'B-3', 'G#3', 'E-4', 'F#3', 'F3', 'G#3', 'B3', 'E-4', 'C#4', 'B3', 'B-3', 'G#3', 'B3', 'B-3', 'G#3', 'F#3', 'F#3.B-3', 'F#3.B-3', 'C4', 'F#3', 'F3', 'E-3', 'F3', 'D4', 'E-4', 'D4', 'E-3.E-4', 'F4', 'F#4', 'F4', 'E-4', 'F4', 'E-4', 'C#4', 'C4', 'C#4', 'C4', 'B-3', 'A3', 'B-3', 'A3', 'G3', 'F3', 'F4', 'C#4', 'B-3', 'G#3', 'F#3.F4', 'B-3', 'F#3', 'E-3', 'C3.E-3', 'F#3', 'E-3', 'C3', 'A2', 'C3', 'F3', 'A3', 'C4', 'E-4', 'C#4', 'C4', 'C#4', 'B-3', 'F#3', 'F3', 'E-3', 'F#3', 'F3', 'E-3', 'A3', 'B-3', 'C4', 'E-4', 'F3', 'E-3', 'C#3', 'F3', 'B-3', 'E-4', 'F3.C4', 'B-3', 'E3.B-3', 'E3', 'F3', 'G3.A3', 'B-3.C4', 'C#4', 'E-4', 'C#4', 'C4', 'B-3.C#4', 'E-3', 'A3', 'B-3', 'C4', 'B-3', 'A3', 'G3', 'F3', 'C#3.F3.B-3', 'F#3', 'F3', 'E-3', 'C#3', 'C3', 'B-2', 'A2.E-3.C4', 'F3', 'F#3', 'F3', 'E-3', 'C#3', 'C3', 'E-4', 'C4', 'C#4', 'B-3', 'F3', 'A3', 'B-2', 'D3', 'F3', 'G#3', 'F#3', 'F3', 'F#3', 'B-3', 'E-4', 'A3', 'B-3', 'B-3', 'E-2.B-2.F#3.B-3', 'B3', 'B-3', 'G#3', 'F#3', 'F3', 'E-3', 'E-3', 'D3', 'E-3', 'F3', 'B-2', 'B2', 'G#2', 'F#2', 'B-2', 'E-3', 'F#2', 'F2', 'D3', 'E-2.B-2.E-3', 'F3', 'F#3', 'G#3', 'B-3', 'B3', 'E-2.B-2.G3.C#4', 'E-4', 'E4', 'E-4', 'C#4', 'B3', 'B-3', 'C#4', 'B3', 'B-3', 'G#3', 'E-4', 'F#3', 'F3', 'G#3', 'B3', 'E-4', 'C#4', 'B3', 'B-3', 'G#3', 'B3', 'B-3', 'G#3', 'F#3', 'F#3.B-3', 'F#3.B-3', 'C4', 'F#3', 'F3', 'E-3', 'F3', 'D4', 'E-4', 'D4', 'E-3.E-4', 'F4', 'F#4', 'F4', 'E-4', 'F4', 'E-4', 'C#4', 'C4', 'C#4', 'C4', 'B-3', 'A3', 'B-3', 'A3', 'G3', 'F3', 'F4', 'C#4', 'B-3', 'G#3', 'F#3.F4', 'B-3', 'F#3', 'E-3', 'C3.E-3', 'F#3', 'E-3', 'C3', 'A2', 'C3', 'F3', 'A3', 'C4', 'E-4', 'C#4', 'C4', 'C#4', 'B-3', 'F#3', 'F3', 'E-3', 'F#3', 'F3', 'E-3', 'A3', 'B-3', 'C4', 'E-4', 'F3', 'E-3', 'C#3', 'F3', 'B-3', 'E-4', 'F3.C4', 'B-3', 'E3.B-3', 'E3', 'F3', 'G3.A3', 'B-3.C4', 'C#4', 'E-4', 'C#4', 'C4', 'B-3.C#4', 'E-3', 'A3', 'B-3', 'C4', 'B-3', 'A3', 'G3', 'F3', 'C#3.F3.B-3', 'F#3', 'F3', 'E-3', 'C#3', 'C3', 'B-2', 'A2.E-3.C4', 'F3', 'F#3', 'F3', 'E-3', 'C#3', 'C3', 'E-4', 'C4', 'C#4', 'B-3', 'F3', 'A3', 'B-2', 'D3', 'F3', 'G#3', 'F#3', 'F3', 'F#3', 'B-3', 'E-4', 'A3', 'B-3', 'F3', 'B-2.F3.D4', 'F#3', 'G#3', 'F3', 'F#3', 'B-3', 'D3', 'E-3', 'F3', 'B2', 'B-2', 'G#2', 'F#2', 'B-3', 'F#3', 'E-3', 'G#3', 'C3', 'D3', 'B-3', 'G#3', 'F#3', 'F3', 'E-3', 'G3', 'E-3', 'E3', 'C#3', 'B2', 'G#3', 'B-2', 'G#2', 'G2', 'B-2', 'E-3', 'C#4', 'B3', 'G3', 'G#3', 'B3', 'E-4', 'B-3', 'B3', 'G#3', 'E3', 'E-3', 'E3', 'G#3', 'C#4', 'B-3', 'B3', 'G#3', 'E-3', 'C#3', 'E-3', 'G#3', 'B3', 'G3', 'G#3', 'E3', 'C#3', 'B2', 'C#3', 'B3', 'B-3', 'C#4', 'E4', 'G#3', 'C#3.G3', 'G#3', 'B-3', 'E-3', 'E3', 'C#3', 'B2', 'E-3', 'G#3', 'B2', 'E-2', 'G3', 'G#2.G#3', 'B-3', 'B3', 'E-4', 'G#3', 'F#3', 'B2.F3', 'F#3', 'G#3', 'F3', 'C#3', 'B2', 'B-2', 'F#3', 'G#2', 'F#2', 'F2', 'G#3', 'B-3', 'B3', 'B3', 'B-3', 'G#3', 'F#3', 'B-3', 'F3', 'F#3', 'E-3', 'B2', 'E-3', 'F#3', 'B-3', 'E-4', 'B-3', 'B3', 'G#3', 'B-2', 'G#3', 'D4', 'E-4', 'F4', 'G#3', 'B-3', 'F3', 'F#3', 'E-3', 'B2', 'E-3', 'A2', 'F#3', 'F3', 'E-3', 'E-3', 'D3', 'C3', 'B-2', 'C#3', 'B-2', 'G2', 'E-3', 'C#3', 'B-2', 'C3', 'E-3', 'F#3', 'E-3', 'A2', 'E-3', 'D3', 'F3', 'G#3', 'B3', 'F4', 'B-3', 'B3', 'G#3', 'F#3', 'D3', 'E-3', 'A2', 'B-2', 'D3', 'E-2', 'E-4', 'C#4', 'B-3', 'B3', 'G#3', 'F3', 'D4', 'E-4', 'B-3', 'F#3', 'E-3', 'E-2', 'F3', 'B-2.F3.D4', 'F#3', 'G#3', 'F3', 'F#3', 'B-3', 'D3', 'E-3', 'F3', 'B2', 'B-2', 'G#2', 'F#2', 'B-3', 'F#3', 'E-3', 'G#3', 'C3', 'D3', 'B-3', 'G#3', 'F#3', 'F3', 'E-3', 'G3', 'E-3', 'E3', 'C#3', 'B2', 'G#3', 'B-2', 'G#2', 'G2', 'B-2', 'E-3', 'C#4', 'B3', 'G3', 'G#3', 'B3', 'E-4', 'B-3', 'B3', 'G#3', 'E3', 'E-3', 'E3', 'G#3', 'C#4', 'B-3', 'B3', 'G#3', 'E-3', 'C#3', 'E-3', 'G#3', 'B3', 'G3', 'G#3', 'E3', 'C#3', 'B2', 'C#3', 'B3', 'B-3', 'C#4', 'E4', 'G#3', 'C#3.G3', 'G#3', 'B-3', 'E-3', 'E3', 'C#3', 'B2', 'E-3', 'G#3', 'B2', 'E-2', 'G3', 'G#2.G#3', 'B-3', 'B3', 'E-4', 'G#3', 'F#3', 'B2.F3', 'F#3', 'G#3', 'F3', 'C#3', 'B2', 'B-2', 'F#3', 'G#2', 'F#2', 'F2', 'G#3', 'B-3', 'B3', 'B3', 'B-3', 'G#3', 'F#3', 'B-3', 'F3', 'F#3', 'E-3', 'B2', 'E-3', 'F#3', 'B-3', 'E-4', 'B-3', 'B3', 'G#3', 'B-2', 'G#3', 'D4', 'E-4', 'F4', 'G#3', 'B-3', 'F3', 'F#3', 'E-3', 'B2', 'E-3', 'A2', 'F#3', 'F3', 'E-3', 'E-3', 'D3', 'C3', 'B-2', 'C#3', 'B-2', 'G2', 'E-3', 'C#3', 'B-2', 'C3', 'E-3', 'F#3', 'E-3', 'A2', 'E-3', 'D3', 'F3', 'G#3', 'B3', 'F4', 'B-3', 'B3', 'G#3', 'F#3', 'D3', 'E-3', 'A2', 'B-2', 'D3', 'E-2', 'E-4', 'C#4', 'B-3', 'B3', 'G#3', 'F3', 'D4', 'E-4', 'B-3', 'F#3', 'E-3', 'E-2', 'START']], [[0, 0.25, 0.5, 0.25, 0.25, 0.25, 0.25, 0.25, 0.25, 0.25, 0.25, 0.25, 0.25, 0.5, 0.25, 0.25, 0.25, 0.25, 0.25, 0.25, 0.5, 0.5, 0.75, 0.25, 0.25, 0.25, 0.25, 0.25, 0.5, 0.25, 0.25, 0.25, 0.25, 0.25, 0.25, 0.25, 0.25, 0.25, 0.25, 0.75, 0.25, 0.25, 0.25, 0.25, 0.25, 0.25, 0.25, 0.25, 0.25, 0.25, 0.25, 0.25, 0.25, 0.75, 0.25, 0.25, 0.25, 0.25, 0.25, 0.25, 0.25, 0.25, 0.25, 0.75, 0.25, 0.25, 0.25, 0.25, 0.25, 0.25, 0.25, 0.25, 0.25, 0.25, 0.25, 0.25, 0.25, 0.5, 0.25, 0.25, 0.25, 0.25, 0.25, 0.25, 0.25, 0.25, 0.25, 0.25, 0.25, 0.25, 0.25, 0.25, 0.25, 0.25, 0.25, 0.25, 0.25, 0.25, 0.25, 0.25, 0.25, 0.25, 0.25, 0.25, 0.25, 0.25, 0.25, 0.25, 0.75, 0.25, 0.25, 0.25, 0.25, 0.25, 0.25, 0.25, 0.25, 0.25, 0.75, 0.25, 0.5, Fraction(1, 6), Fraction(1, 12), 0.25, 0.25, Fraction(1, 12), Fraction(1, 6), Fraction(1, 6), Fraction(1, 12), 0.25, 0.25, 0.25, 0.25, 0.25, 0.25, 0.25, 0.25, 0.25, 0.5, 0.25, 0.25, 0.25, 0.25, 0.25, 0.25, 0.5, 0.25, 0.25, 0.25, 0.25, 0.25, 0.25, 0.25, 0.25, 0.25, 0.25, 0.5, 0.5, 0.75, 0.25, 0.25, 0.25, 0.25, 0.25, 0.25, 0.25, 0.25, 0.25, 0.75, 0.25, 0.5, 0.25, 0.25, 0.25, 0.25, 0.25, 0.25, 0.25, 0.25, 0.25, 0.25, 0.5, 0.25, 0.25, 0.25, 0.25, 0.25, 0.25, 0.5, 0.5, 0.75, 0.25, 0.25, 0.25, 0.25, 0.25, 0.5, 0.25, 0.25, 0.25, 0.25, 0.25, 0.25, 0.25, 0.25, 0.25, 0.25, 0.75, 0.25, 0.25, 0.25, 0.25, 0.25, 0.25, 0.25, 0.25, 0.25, 0.25, 0.25, 0.25, 0.25, 0.75, 0.25, 0.25, 0.25, 0.25, 0.25, 0.25, 0.25, 0.25, 0.25, 0.75, 0.25, 0.25, 0.25, 0.25, 0.25, 0.25, 0.25, 0.25, 0.25, 0.25, 0.25, 0.25, 0.25, 0.5, 0.25, 0.25, 0.25, 0.25, 0.25, 0.25, 0.25, 0.25, 0.25, 0.25, 0.25, 0.25, 0.25, 0.25, 0.25, 0.25, 0.25, 0.25, 0.25, 0.25, 0.25, 0.25, 0.25, 0.25, 0.25, 0.25, 0.25, 0.25, 0.25, 0.25, 0.75, 0.25, 0.25, 0.25, 0.25, 0.25, 0.25, 0.25, 0.25, 0.25, 0.75, 0.25, 0.5, Fraction(1, 6), Fraction(1, 12), 0.25, 0.25, Fraction(1, 12), Fraction(1, 6), Fraction(1, 6), Fraction(1, 12), 0.25, 0.25, 0.25, 0.25, 0.25, 0.25, 0.25, 0.25, 0.25, 0.5, 0.25, 0.25, 0.25, 0.25, 0.25, 0.25, 0.5, 0.25, 0.25, 0.25, 0.25, 0.25, 0.25, 0.25, 0.25, 0.25, 0.25, 0.5, 0.5, 0.75, 0.25, 0.25, 0.25, 0.25, 0.25, 0.25, 0.25, 0.25, 0.25, 0.75, 0.25, 0.75, 0.25, 0.25, 0.25, 0.25, 0.25, 0.25, 0.25, 0.25, 0.25, 0.75, 0.25, 0.25, 0.25, 0.25, 0.25, 0.25, 0.25, 0.25, 0.25, 0.25, 0.25, 0.25, 0.25, 0.25, 0.25, 0.25, 0.25, 0.25, 0.25, 0.25, 0.25, 0.25, 0.25, 0.25, 0.25, 0.25, 0.25, 0.25, 0.25, 0.25, 0.25, 0.25, 0.25, 0.25, 0.25, 0.25, 0.25, 0.25, 0.25, 0.25, 0.25, 0.25, 0.25, 0.25, 0.25, 0.25, 0.25, 0.25, 0.25, 0.25, 0.25, 0.25, 0.25, 0.25, 0.25, 0.25, 0.25, 0.5, 0.25, 0.25, 0.5, 0.25, 0.25, 0.25, 0.25, 0.25, 0.25, 0.5, 0.5, 0.75, 0.25, 0.25, 0.25, 0.25, 0.25, 0.75, 0.25, 0.25, 0.25, 0.25, 0.25, 0.25, 0.25, 0.25, 0.25, 0.25, 0.25, 0.25, 0.25, 0.25, 0.25, 0.25, 0.25, 0.25, 0.25, 0.25, 0.25, 0.25, 0.25, 0.25, 0.25, 0.25, 0.25, 0.25, 0.25, 0.25, 0.25, 0.25, 0.25, 0.25, 0.25, 0.25, 0.25, 0.25, 0.25, 0.25, 0.25, 0.25, 0.25, 0.25, 0.25, 0.25, 0.25, 0.25, 0.25, 0.25, 0.25, 0.25, 0.25, 0.25, 0.25, 0.25, 0.25, 0.25, 0.25, 0.25, 0.25, 0.25, 0.25, 0.25, 0.25, 0.25, 0.25, 0.25, 0.25, 0.25, 0.25, 0.25, 0.25, 0.5, 0.5, 0.25, 0.25, 0.25, 0.25, 0.25, 0.25, 0.25, 0.25, 0.25, 0.25, 0.25, 0.25, 0.75, 0.25, 0.75, 0.25, 0.25, 0.25, 0.25, 0.25, 0.25, 0.25, 0.25, 0.25, 0.75, 0.25, 0.25, 0.25, 0.25, 0.25, 0.25, 0.25, 0.25, 0.25, 0.25, 0.25, 0.25, 0.25, 0.25, 0.25, 0.25, 0.25, 0.25, 0.25, 0.25, 0.25, 0.25, 0.25, 0.25, 0.25, 0.25, 0.25, 0.25, 0.25, 0.25, 0.25, 0.25, 0.25, 0.25, 0.25, 0.25, 0.25, 0.25, 0.25, 0.25, 0.25, 0.25, 0.25, 0.25, 0.25, 0.25, 0.25, 0.25, 0.25, 0.25, 0.25, 0.25, 0.25, 0.25, 0.25, 0.25, 0.25, 0.5, 0.25, 0.25, 0.5, 0.25, 0.25, 0.25, 0.25, 0.25, 0.25, 0.5, 0.5, 0.75, 0.25, 0.25, 0.25, 0.25, 0.25, 0.75, 0.25, 0.25, 0.25, 0.25, 0.25, 0.25, 0.25, 0.25, 0.25, 0.25, 0.25, 0.25, 0.25, 0.25, 0.25, 0.25, 0.25, 0.25, 0.25, 0.25, 0.25, 0.25, 0.25, 0.25, 0.25, 0.25, 0.25, 0.25, 0.25, 0.25, 0.25, 0.25, 0.25, 0.25, 0.25, 0.25, 0.25, 0.25, 0.25, 0.25, 0.25, 0.25, 0.25, 0.25, 0.25, 0.25, 0.25, 0.25, 0.25, 0.25, 0.25, 0.25, 0.25, 0.25, 0.25, 0.25, 0.25, 0.25, 0.25, 0.25, 0.25, 0.25, 0.25, 0.25, 0.25, 0.25, 0.25, 0.25, 0.25, 0.25, 0.25, 0.25, 0.25, 0.5, 0.5, 0.25, 0.25, 0.25, 0.25, 0.25, 0.25, 0.25, 0.25, 0.25, 0.25, 0.25, 0.25, 0.75, 0], [0, 0.25, 0.5, 0.25, 0.25, 0.25, 0.25, 0.25, 0.25, 0.25, 0.25, 0.25, 0.25, 0.5, 0.25, 0.25, 0.25, 0.25, 0.25, 0.25, 0.5, 0.5, 0.75, 0.25, 0.25, 0.25, 0.25, 0.25, 0.5, 0.25, 0.25, 0.25, 0.25, 0.25, 0.25, 0.25, 0.25, 0.25, 0.25, 0.75, 0.25, 0.25, 0.25, 0.25, 0.25, 0.25, 0.25, 0.25, 0.25, 0.25, 0.25, 0.25, 0.25, 0.75, 0.25, 0.25, 0.25, 0.25, 0.25, 0.25, 0.25, 0.25, 0.25, 0.75, 0.25, 0.25, 0.25, 0.25, 0.25, 0.25, 0.25, 0.25, 0.25, 0.25, 0.25, 0.25, 0.25, 0.5, 0.25, 0.25, 0.25, 0.25, 0.25, 0.25, 0.25, 0.25, 0.25, 0.25, 0.25, 0.25, 0.25, 0.25, 0.25, 0.25, 0.25, 0.25, 0.25, 0.25, 0.25, 0.25, 0.25, 0.25, 0.25, 0.25, 0.25, 0.25, 0.25, 0.25, 0.75, 0.25, 0.25, 0.25, 0.25, 0.25, 0.25, 0.25, 0.25, 0.25, 0.75, 0.25, 0.5, Fraction(1, 6), Fraction(1, 12), 0.25, 0.25, Fraction(1, 12), Fraction(1, 6), Fraction(1, 6), Fraction(1, 12), 0.25, 0.25, 0.25, 0.25, 0.25, 0.25, 0.25, 0.25, 0.25, 0.5, 0.25, 0.25, 0.25, 0.25, 0.25, 0.25, 0.5, 0.25, 0.25, 0.25, 0.25, 0.25, 0.25, 0.25, 0.25, 0.25, 0.25, 0.5, 0.5, 0.75, 0.25, 0.25, 0.25, 0.25, 0.25, 0.25, 0.25, 0.25, 0.25, 0.75, 0.25, 0.5, 0.25, 0.25, 0.25, 0.25, 0.25, 0.25, 0.25, 0.25, 0.25, 0.25, 0.5, 0.25, 0.25, 0.25, 0.25, 0.25, 0.25, 0.5, 0.5, 0.75, 0.25, 0.25, 0.25, 0.25, 0.25, 0.5, 0.25, 0.25, 0.25, 0.25, 0.25, 0.25, 0.25, 0.25, 0.25, 0.25, 0.75, 0.25, 0.25, 0.25, 0.25, 0.25, 0.25, 0.25, 0.25, 0.25, 0.25, 0.25, 0.25, 0.25, 0.75, 0.25, 0.25, 0.25, 0.25, 0.25, 0.25, 0.25, 0.25, 0.25, 0.75, 0.25, 0.25, 0.25, 0.25, 0.25, 0.25, 0.25, 0.25, 0.25, 0.25, 0.25, 0.25, 0.25, 0.5, 0.25, 0.25, 0.25, 0.25, 0.25, 0.25, 0.25, 0.25, 0.25, 0.25, 0.25, 0.25, 0.25, 0.25, 0.25, 0.25, 0.25, 0.25, 0.25, 0.25, 0.25, 0.25, 0.25, 0.25, 0.25, 0.25, 0.25, 0.25, 0.25, 0.25, 0.75, 0.25, 0.25, 0.25, 0.25, 0.25, 0.25, 0.25, 0.25, 0.25, 0.75, 0.25, 0.5, Fraction(1, 6), Fraction(1, 12), 0.25, 0.25, Fraction(1, 12), Fraction(1, 6), Fraction(1, 6), Fraction(1, 12), 0.25, 0.25, 0.25, 0.25, 0.25, 0.25, 0.25, 0.25, 0.25, 0.5, 0.25, 0.25, 0.25, 0.25, 0.25, 0.25, 0.5, 0.25, 0.25, 0.25, 0.25, 0.25, 0.25, 0.25, 0.25, 0.25, 0.25, 0.5, 0.5, 0.75, 0.25, 0.25, 0.25, 0.25, 0.25, 0.25, 0.25, 0.25, 0.25, 0.75, 0.25, 0.75, 0.25, 0.25, 0.25, 0.25, 0.25, 0.25, 0.25, 0.25, 0.25, 0.75, 0.25, 0.25, 0.25, 0.25, 0.25, 0.25, 0.25, 0.25, 0.25, 0.25, 0.25, 0.25, 0.25, 0.25, 0.25, 0.25, 0.25, 0.25, 0.25, 0.25, 0.25, 0.25, 0.25, 0.25, 0.25, 0.25, 0.25, 0.25, 0.25, 0.25, 0.25, 0.25, 0.25, 0.25, 0.25, 0.25, 0.25, 0.25, 0.25, 0.25, 0.25, 0.25, 0.25, 0.25, 0.25, 0.25, 0.25, 0.25, 0.25, 0.25, 0.25, 0.25, 0.25, 0.25, 0.25, 0.25, 0.25, 0.5, 0.25, 0.25, 0.5, 0.25, 0.25, 0.25, 0.25, 0.25, 0.25, 0.5, 0.5, 0.75, 0.25, 0.25, 0.25, 0.25, 0.25, 0.75, 0.25, 0.25, 0.25, 0.25, 0.25, 0.25, 0.25, 0.25, 0.25, 0.25, 0.25, 0.25, 0.25, 0.25, 0.25, 0.25, 0.25, 0.25, 0.25, 0.25, 0.25, 0.25, 0.25, 0.25, 0.25, 0.25, 0.25, 0.25, 0.25, 0.25, 0.25, 0.25, 0.25, 0.25, 0.25, 0.25, 0.25, 0.25, 0.25, 0.25, 0.25, 0.25, 0.25, 0.25, 0.25, 0.25, 0.25, 0.25, 0.25, 0.25, 0.25, 0.25, 0.25, 0.25, 0.25, 0.25, 0.25, 0.25, 0.25, 0.25, 0.25, 0.25, 0.25, 0.25, 0.25, 0.25, 0.25, 0.25, 0.25, 0.25, 0.25, 0.25, 0.25, 0.5, 0.5, 0.25, 0.25, 0.25, 0.25, 0.25, 0.25, 0.25, 0.25, 0.25, 0.25, 0.25, 0.25, 0.75, 0.25, 0.75, 0.25, 0.25, 0.25, 0.25, 0.25, 0.25, 0.25, 0.25, 0.25, 0.75, 0.25, 0.25, 0.25, 0.25, 0.25, 0.25, 0.25, 0.25, 0.25, 0.25, 0.25, 0.25, 0.25, 0.25, 0.25, 0.25, 0.25, 0.25, 0.25, 0.25, 0.25, 0.25, 0.25, 0.25, 0.25, 0.25, 0.25, 0.25, 0.25, 0.25, 0.25, 0.25, 0.25, 0.25, 0.25, 0.25, 0.25, 0.25, 0.25, 0.25, 0.25, 0.25, 0.25, 0.25, 0.25, 0.25, 0.25, 0.25, 0.25, 0.25, 0.25, 0.25, 0.25, 0.25, 0.25, 0.25, 0.25, 0.5, 0.25, 0.25, 0.5, 0.25, 0.25, 0.25, 0.25, 0.25, 0.25, 0.5, 0.5, 0.75, 0.25, 0.25, 0.25, 0.25, 0.25, 0.75, 0.25, 0.25, 0.25, 0.25, 0.25, 0.25, 0.25, 0.25, 0.25, 0.25, 0.25, 0.25, 0.25, 0.25, 0.25, 0.25, 0.25, 0.25, 0.25, 0.25, 0.25, 0.25, 0.25, 0.25, 0.25, 0.25, 0.25, 0.25, 0.25, 0.25, 0.25, 0.25, 0.25, 0.25, 0.25, 0.25, 0.25, 0.25, 0.25, 0.25, 0.25, 0.25, 0.25, 0.25, 0.25, 0.25, 0.25, 0.25, 0.25, 0.25, 0.25, 0.25, 0.25, 0.25, 0.25, 0.25, 0.25, 0.25, 0.25, 0.25, 0.25, 0.25, 0.25, 0.25, 0.25, 0.25, 0.25, 0.25, 0.25, 0.25, 0.25, 0.25, 0.25, 0.5, 0.5, 0.25, 0.25, 0.25, 0.25, 0.25, 0.25, 0.25, 0.25, 0.25, 0.25, 0.25, 0.25, 0.75, 0]])\n"
     ]
    }
   ],
   "source": [
    "def get_note_duration(file):\n",
    "    #读取数据\n",
    "    file = music21.converter.parse(file).chordify()\n",
    "\n",
    "    note = []\n",
    "    duration = []\n",
    "\n",
    "    #不知道为什么是0和1,总之1个mid文件里能解析出两条音轨\n",
    "    for i in [0, 1]:\n",
    "\n",
    "        #开始符号\n",
    "        n = ['START']\n",
    "        d = [0]\n",
    "\n",
    "        #读取音符和持续时间\n",
    "        for j in file.transpose(i).flat:\n",
    "            if not isinstance(j, music21.chord.Chord):\n",
    "                continue\n",
    "\n",
    "            #在同一个时间点可能有多个音符,把他们都前后拼合在一起,以\".\"间隔\n",
    "            n_join = [k.nameWithOctave for k in j.pitches]\n",
    "            n_join = '.'.join(n_join)\n",
    "            n.append(n_join)\n",
    "\n",
    "            #取持续时间\n",
    "            d.append(j.duration.quarterLength)\n",
    "\n",
    "        #结束符号\n",
    "        n.append('START')\n",
    "        d.append(0)\n",
    "\n",
    "        note.append(n)\n",
    "        duration.append(d)\n",
    "\n",
    "    return note, duration\n",
    "\n",
    "\n",
    "print(get_note_duration('../datas/cello/cs2-2all.mid'))"
   ]
  },
  {
   "cell_type": "code",
   "execution_count": 3,
   "metadata": {},
   "outputs": [
    {
     "name": "stdout",
     "output_type": "stream",
     "text": [
      "['START', 'C4', 'B3', 'A3', 'G3', 'F3', 'E3', 'D3', 'C3', 'G2', 'E2', 'G2', 'C2', 'D2', 'E2', 'F2', 'G2', 'A2', 'B2', 'C3']\n",
      "[0, 0.5, 0.25, 0.25, 0.25, 0.25, 0.25, 0.25, 0.25, 0.25, 0.25, 0.25, 1.25, 0.25, 0.25, 0.25, 0.25, 0.25, 0.25, 0.25]\n"
     ]
    },
    {
     "data": {
      "text/plain": [
       "(72, 72)"
      ]
     },
     "execution_count": 3,
     "metadata": {},
     "output_type": "execute_result"
    }
   ],
   "source": [
    "import os\n",
    "\n",
    "\n",
    "def load_datas():\n",
    "    note = []\n",
    "    duration = []\n",
    "\n",
    "    #读取文件列表\n",
    "    files = ['../datas/cello/' + i for i in os.listdir('../datas/cello')]\n",
    "\n",
    "    for i in files:\n",
    "        n, d = get_note_duration(i)\n",
    "        note.extend(n)\n",
    "        duration.extend(d)\n",
    "\n",
    "    return note, duration\n",
    "\n",
    "\n",
    "note, duration = load_datas()\n",
    "\n",
    "print(note[0][:20])\n",
    "print(duration[0][:20])\n",
    "\n",
    "len(note), len(duration)"
   ]
  },
  {
   "cell_type": "code",
   "execution_count": 4,
   "metadata": {},
   "outputs": [
    {
     "name": "stdout",
     "output_type": "stream",
     "text": [
      "[0, 1, 2, 3, 4, 5, 6, 7, 8, 9, 10, 9, 11, 12, 10, 13, 9, 14, 15, 8]\n",
      "[0, 1, 2, 2, 2, 2, 2, 2, 2, 2, 2, 2, 3, 2, 2, 2, 2, 2, 2, 2]\n",
      "72 72\n",
      "{'START': 0, 'C4': 1, 'B3': 2, 'A3': 3, 'G3': 4, 'F3': 5, 'E3': 6, 'D3': 7, 'C3': 8, 'G2': 9, 'E2': 10, 'C2': 11, 'D2': 12, 'F2': 13, 'A2': 14, 'B2': 15, 'D4': 16, 'E4': 17, 'F4': 18, 'F#3': 19, 'C#3': 20, 'G#3': 21, 'E-3': 22, 'B-3': 23, 'G4': 24, 'E-4': 25, 'F#2': 26, 'B-2': 27, 'F2.G2.D3.B3': 28, 'E-2.G2.G3.A3': 29, 'D2.G2.F3.B3': 30, 'C2.G2.E3.C4': 31, 'G2.D3.C4': 32, 'G2.D3.B3': 33, 'C2.G2.E3.B-3': 34, 'C2.A2.F3.A3': 35, 'C2.G#2.D3.B3': 36, 'D3.B3': 37, 'E3.C4': 38, 'C#4': 39, 'G#2': 40, 'C#2': 41, 'E-2': 42, 'F#4': 43, 'G#4': 44, 'F#2.G#2.E-3.C4': 45, 'E2.G#2.G#3.B-3': 46, 'E-2.G#2.F#3.C4': 47, 'C#2.G#2.F3.C#4': 48, 'G#2.E-3.C#4': 49, 'G#2.E-3.C4': 50, 'C#2.G#2.F3.B3': 51, 'C#2.B-2.F#3.B-3': 52, 'C#2.A2.E-3.C4': 53, 'E-3.C4': 54, 'F3.C#4': 55, 'D2.A2.F3.A3': 56, 'D2.A2.D3': 57, 'D2.A2.F#3.C4': 58, 'F3.A3': 59, 'D3.D4': 60, 'F3.E4': 61, 'B2.D3': 62, 'E3.B3': 63, 'E-3.A3': 64, 'F#3.G#3': 65, 'A3.B3': 66, 'A3.C4': 67, 'C3.E3.A3': 68, 'G#2.D3.B3': 69, 'A2.E3.C#4': 70, 'C3.F#3': 71, 'G2.G3': 72, 'B-2.E3': 73, 'E-2.B-2.F#3.B-3': 74, 'E-2.B-2.E-3': 75, 'E-2.B-2.G3.C#4': 76, 'F#3.B-3': 77, 'E-3.E-4': 78, 'F#3.F4': 79, 'C3.E-3': 80, 'F3.C4': 81, 'E3.B-3': 82, 'G3.A3': 83, 'B-3.C4': 84, 'B-3.C#4': 85, 'C#3.F3.B-3': 86, 'A2.E-3.C4': 87, 'B-2.F3.D4': 88, 'C#3.G3': 89, 'G#2.G#3': 90, 'B2.F3': 91, 'C2.C3': 92, 'C2.B2.F3.G#3': 93, 'C2.E-3': 94, 'G#2.F3': 95, 'G#2.F3.C4': 96, 'C2.G2.F3.C4': 97, 'E3.G3': 98, 'F3.G#3': 99, 'D3.E-3': 100, 'C2.G2.E-3': 101, 'G2.D3': 102, 'G2.F#3.E-4': 103, 'G2.F3.B3': 104, 'G2.E3.C#4': 105, 'D2.B-2.F3.G#3': 106, 'E-2.B-2.E-3.G3': 107, 'F#3.D4': 108, 'G2.D3.B-3': 109, 'C2.G2.E-3.B-3': 110, 'D3.G3': 111, 'G2.D3.G3': 112, 'G3.B-3': 113, 'G3.C4': 114, 'D3.A3': 115, 'D3.B-3': 116, 'D3.C4': 117, 'C3.F3': 118, 'G2.E-3': 119, 'G2.F3': 120, 'B-2.F3': 121, 'B-2.E-3': 122, 'C3.D3': 123, 'B-2.D3': 124, 'A2.D3': 125, 'B2.E-3': 126, 'D3.G#3': 127, 'E-3.G3': 128, 'C3.G3': 129, 'F3.D4': 130, 'F3.B3': 131, 'G3.D4': 132, 'D4.E-4': 133, 'C2.B-2': 134, 'C2.G#2': 135, 'C2.G2': 136, 'D2.B2': 137, 'D2.E-3': 138, 'E-2.G2': 139, 'E-2.G3': 140, 'E2.C3.G3.B-3': 141, 'F#2.C3.E-3.C4': 142, 'C#2.C#3': 143, 'C#2.C3.F#3.A3': 144, 'C#3.E3': 145, 'C#2.E3': 146, 'A2.F#3': 147, 'A2.F#3.C#4': 148, 'C#2.G#2.F#3.C#4': 149, 'F#3.A3': 150, 'E-3.E3': 151, 'C#2.G#2.E3': 152, 'G#2.E-3': 153, 'G#2.G3.E4': 154, 'B3.C#4': 155, 'G#2.F#3.C4': 156, 'G#2.F3.D4': 157, 'E-2.B2.F#3.A3': 158, 'E2.B2.E3.G#3': 159, 'G3.E-4': 160, 'G#2.E-3.B3': 161, 'C#2.G#2.E3.B3': 162, 'E-3.G#3': 163, 'G#2.E-3.G#3': 164, 'G#3.B3': 165, 'G#3.C#4': 166, 'E-3.B-3': 167, 'E-3.B3': 168, 'E-3.C#4': 169, 'C#3.F#3': 170, 'G#2.E3': 171, 'G#2.F#3': 172, 'B2.F#3': 173, 'B2.E3': 174, 'E2.B2.E3': 175, 'C#3.E-3': 176, 'C3.E3': 177, 'E3.G#3': 178, 'C#3.G#3': 179, 'F#3.E-4': 180, 'F#3.C4': 181, 'G#3.E-4': 182, 'E-4.E4': 183, 'C#2.B2': 184, 'C#2.A2': 185, 'C#2.G#2': 186, 'E-2.C3': 187, 'E-2.E3': 188, 'E2.G#2': 189, 'E2.G#3': 190, 'F2.C#3.G#3.B3': 191, 'G2.C#3.E3.C#4': 192, 'F3.B-3': 193, 'F3.G3': 194, 'C2.G2.F3': 195, 'E2.E3.G3': 196, 'A2.G3': 197, 'A2.E3': 198, 'G2.D3.A3': 199, 'C#3.G3.A3': 200, 'G2.E3.B3': 201, 'G#2.F3.B3': 202, 'G#2.E3.B3': 203, 'B3.C4': 204, 'D2.A2.F3.D4': 205, 'C2.A2.F#3': 206, 'C2.A2.G3.A3': 207, 'A2.F#3.C4': 208, 'A2.F#3.D4.E4': 209, 'A2.F3': 210, 'B2.A3': 211, 'B2.G3': 212, 'F#3.B3': 213, 'C#2.G#2.F#3': 214, 'F2.F3.G#3': 215, 'B-2.G#3': 216, 'G#2.E-3.B-3': 217, 'D3.G#3.B-3': 218, 'A2.F3.C4': 219, 'C4.C#4': 220, 'E-2.B-2.F#3.E-4': 221, 'C#2.B-2.G3': 222, 'C#2.B-2.G#3.B-3': 223, 'B-2.G3.C#4': 224, 'B-2.G3.E-4.F4': 225, 'B-2.F#3': 226, 'C3.B-3': 227, 'C3.G#3': 228, 'D2.C3.F#3.E-4': 229, 'D2.B-2.G3.D4': 230, 'D2.B-2.G3.C4': 231, 'C#3.G3.B-3': 232, 'D3.G3.A3': 233, 'E-2.B-2.G3.E-4': 234, 'E-2.C#3.G3.E4': 235, 'E-2.B2.G#3.E-4': 236, 'E-2.B2.G#3.C#4': 237, 'D3.G#3.B3': 238, 'E-3.G#3.B-3': 239, 'E2.B2.G#3.E4': 240, 'D3.E-4': 241, 'D3.F#4': 242, 'D3.G4': 243, 'D3.C#4': 244, 'G3.B3': 245, 'G2.F#3': 246, 'G2.A3': 247, 'G2.C4': 248, 'G2.G#3': 249, 'G2.B3': 250, 'E-3.E4': 251, 'E-3.G4': 252, 'E-3.G#4': 253, 'E-3.D4': 254, 'G3.C#4': 255, 'G#3.C4': 256, 'G#2.G3': 257, 'G#2.B-3': 258, 'G#2.C#4': 259, 'G#2.A3': 260, 'G#2.C4': 261, 'C2.E-3.G3': 262, 'C3.G3.A3': 263, 'C3.G3.B-3': 264, 'B-2.G3': 265, 'D3.F#3': 266, 'C2.G2.E3': 267, 'C2.E3.G3': 268, 'G2.E-3.B-3': 269, 'F2.G#2.E-3': 270, 'F2.G#2.D3': 271, 'E-2.B-2.G3': 272, 'F2.B2.G3': 273, 'F2.C3.D3': 274, 'G#2.D3': 275, 'F2.C3.E-3': 276, 'C#2.E3.G#3': 277, 'C#3.G#3.B-3': 278, 'C#3.G#3.B3': 279, 'B2.G#3': 280, 'C#2.G#2.F3': 281, 'C#2.F3.G#3': 282, 'C#3.A3': 283, 'F#2.A2.E3': 284, 'F#2.A2.E-3': 285, 'E3.A3': 286, 'E2.B2.G#3': 287, 'F#2.C3.G#3': 288, 'E2.C#3': 289, 'F#2.C#3.E-3': 290, 'A2.E-3': 291, 'F#2.C#3.E3': 292, 'G2.E3.C4': 293, 'B2.C3': 294, 'D2.A2.F#3': 295, 'A2.B2': 296, 'E3.F3': 297, 'A2.E3.C4': 298, 'G#2.F3.C#4': 299, 'C3.C#3': 300, 'B-2.C3': 301, 'F3.F#3': 302, 'B-2.F3.C#4': 303, 'B-2.F#3.C#4': 304, 'D3.A3.F#4': 305, 'G2.D3.B3.F#4': 306, 'G3.B3.E4': 307, 'G3.B3.F#4': 308, 'E3.D4': 309, 'E3.C#4': 310, 'G2.E3.C#4.A4': 311, 'A4': 312, 'F#3.D4.A4': 313, 'B4': 314, 'A3.G4': 315, 'A3.F#4': 316, 'D3.A3.G4': 317, 'F#3.C#4.A4': 318, 'B2.F#3.E-4.A4': 319, 'B3.G4': 320, 'B3.F#4': 321, 'E3.B3.A4': 322, 'E3.B3.G4': 323, 'D3.B3.G4': 324, 'B2.F#3.B3': 325, 'B2.F#3.D4': 326, 'A2.F#3.D4': 327, 'G#2.E3.D4': 328, 'A2.E3.D4': 329, 'A3.E4': 330, 'B2.D3.B3.F#4': 331, 'G2.D3.B3.A4': 332, 'A3.D4': 333, 'D2.A2.F#3.D4': 334, 'F#3.G3': 335, 'D3.C#4.E4': 336, 'D3.E4': 337, 'D3.A4': 338, 'E-3.B-3.G4': 339, 'G#2.E-3.C4.G4': 340, 'G#3.C4.F4': 341, 'G#3.C4.G4': 342, 'F3.E-4': 343, 'G#2.F3.D4.B-4': 344, 'B-4': 345, 'G3.E-4.B-4': 346, 'C5': 347, 'B-3.G#4': 348, 'B-3.G4': 349, 'E-3.B-3.G#4': 350, 'G3.D4.B-4': 351, 'C3.G3.E4.B-4': 352, 'C4.G#4': 353, 'C4.G4': 354, 'F3.C4.B-4': 355, 'F3.C4.G#4': 356, 'E-3.C4.G#4': 357, 'C3.G3.C4': 358, 'C3.G3.E-4': 359, 'B-2.G3.E-4': 360, 'A2.F3.E-4': 361, 'B-2.F3.E-4': 362, 'B-3.F4': 363, 'C3.E-3.C4.G4': 364, 'G#2.E-3.C4.B-4': 365, 'B-3.E-4': 366, 'G3.G#3': 367, 'E-3.D4.F4': 368, 'E-3.F4': 369, 'E-3.B-4': 370, 'D3.E3': 371, 'F2.A2': 372, 'F#2.A2.D3.A3': 373, 'B3.D4': 374, 'C4.E4': 375, 'C4.F#4': 376, 'G2.B2': 377, 'E2.G2': 378, 'D4.E4': 379, 'E3.F#3': 380, 'G#3.A3': 381, 'A2.E3.A3': 382, 'C4.D4': 383, 'C#3.D3': 384, 'A2.C3': 385, 'E-3.F3': 386, 'F#2.B-2': 387, 'G2.B-2.E-3.B-3': 388, 'C#3.F3': 389, 'C4.E-4': 390, 'C#4.F4': 391, 'C#4.G4': 392, 'G#2.C3': 393, 'F2.G#2': 394, 'G#3.B-3': 395, 'E-4.F4': 396, 'A3.B-3': 397, 'B-2.F3.B-3': 398, 'C#4.E-4': 399, 'B-2.C#3': 400, 'D3.C#4.F#4': 401, 'C#3.E3.B3.E4': 402, 'E2.B2.G#3.D4': 403, 'C#3.E3.A3': 404, 'C#4.D4': 405, 'G#3.D4.E4': 406, 'E3.D4.G#4': 407, 'D4.G#4': 408, 'D4.B4': 409, 'B3.E4': 410, 'C#4.A4': 411, 'C#4.E4': 412, 'A3.E4.F#4': 413, 'A3.E4.G4': 414, 'E4.G4': 415, 'F#4.G4': 416, 'C#5': 417, 'D5': 418, 'F#2.G2': 419, 'E2.B2.G3': 420, 'D2.B2.G3': 421, 'F#4.D5': 422, 'F#4.A4': 423, 'D4.A4': 424, 'E-3.D4.G4': 425, 'D3.F3.C4.F4': 426, 'F2.C3.A3.E-4': 427, 'D3.F3.B-3': 428, 'A3.E-4.F4': 429, 'F3.E-4.A4': 430, 'E-4.A4': 431, 'E-4.C5': 432, 'C4.F4': 433, 'D4.B-4': 434, 'D4.F4': 435, 'B-3.F4.G4': 436, 'B-3.F4.G#4': 437, 'F4.G#4': 438, 'G4.G#4': 439, 'E-5': 440, 'G2.G#2': 441, 'F2.C3.G#3': 442, 'E-2.C3.G#3': 443, 'G4.E-5': 444, 'G4.B-4': 445, 'E-4.B-4': 446, 'C2.G2.E-3.C4': 447, 'E-2.G2.D3': 448, 'E2.C3.G3': 449, 'D2.B-2.G#3': 450, 'G#3.F4': 451, 'E-3.F3.G3': 452, 'C2.A2.F#3.D4': 453, 'G2.B3.D4': 454, 'B-2.D3.G#3': 455, 'B-2.D3.E-3.G#3': 456, 'G#2.B-2': 457, 'C2.B-2.E3': 458, 'D3.G3.G#3': 459, 'C#2.G#2.E3.C#4': 460, 'E2.G#2.E-3': 461, 'F2.C#3.G#3': 462, 'F#2.C#3.A3': 463, 'E-2.B2.A3': 464, 'E3.F#3.G#3': 465, 'C#2.B-2.G3.E-4': 466, 'G#2.C4.E-4': 467, 'E4.F#4': 468, 'B-3.B3': 469, 'B2.E-3.A3': 470, 'B2.E-3.E3.A3': 471, 'C#2.B2.F3': 472, 'E-3.G#3.A3': 473, 'D2.A2.F3': 474, 'F2.A2.D3': 475, 'F2.A2.E3': 476, 'A2.A3': 477, 'B-2.D3.A3': 478, 'B-2.A3': 479, 'B-2.B-3': 480, 'G2.F3.B-3': 481, 'G2.F3.C4': 482, 'G2.F3.D4': 483, 'G2.E3': 484, 'F2.A2.D3.A3': 485, 'G2.E3.F3': 486, 'G2.F3.G3': 487, 'G2.D3.C#4': 488, 'G2.D3.D4': 489, 'G#3.D4': 490, 'E-2.B-2.F#3': 491, 'F#2.B-2.E-3': 492, 'F#2.B-2.F3': 493, 'B2.E-3.B-3': 494, 'B2.B-3': 495, 'B2.B3': 496, 'G#2.F#3.B3': 497, 'G#2.F#3.C#4': 498, 'G#2.F#3.E-4': 499, 'D2.B2.G#3': 500, 'F#2.B-2.E-3.B-3': 501, 'G#2.F3.F#3': 502, 'G#2.F#3.G#3': 503, 'F#3.C#4': 504, 'G#2.E-3.D4': 505, 'G#2.E-3.E-4': 506, 'A3.E-4': 507, 'C3.A3.E-4': 508, 'F2.C3': 509, 'F2.B-2': 510, 'F2.D3.G#3': 511, 'C#3.B-3.E4': 512, 'F#2.C#3': 513, 'F#2.B2': 514, 'F#2.E-3.A3': 515, 'G2.B-3': 516, 'F2.A3': 517, 'D3.F4': 518, 'C3.E3.B3': 519, 'G#2.B3': 520, 'F#2.B-3': 521, 'E-3.F#4': 522, 'C#3.F3.C4': 523, 'E5': 524, 'F#5': 525, 'G5': 526, 'B2.G#3.D4': 527, 'B-2.G3.D4': 528, 'F5': 529, 'G#5': 530, 'B2.G#3.E-4': 531, 'A2.F#3.E-4': 532, 'G2.G3.B3.E4': 533, 'G2.G3.B3.C#4': 534, 'A2.F#3.D4.A4': 535, 'A2.F#3.D4.F#4': 536, 'E3.C#4.G4': 537, 'G#2.E3.D4.B4': 538, 'G#2.E3.C#4': 539, 'A2.E3.C#4.E4': 540, 'F#2.E3.C#4.E4': 541, 'F#3.A3.E4': 542, 'E-3.C4.F#4': 543, 'E3.B3.F#4': 544, 'D4.C5': 545, 'G3.D4.B4': 546, 'B2.E3.D4': 547, 'B2.E3.E4': 548, 'C3.E3.E4': 549, 'C3.E3.F#4': 550, 'G2.D3.C4.G4': 551, 'G2.D3.A3.G4': 552, 'G3.B3.B4': 553, 'F#3.B3.A4': 554, 'A2.E3.C#4.G#4': 555, 'A2.E3.C#4.A4': 556, 'A2.F3.D4.A4': 557, 'A3.F4': 558, 'B-2.F#3.C#4.E4': 559, 'D3.C4.F#4': 560, 'G3.E4': 561, 'G2.F#3.D4': 562, 'G2.E3.D4': 563, 'A2.G3.D4': 564, 'D2.A2.F#3.C#4': 565, 'G#2.G#3.C4.F4': 566, 'G#2.G#3.C4.D4': 567, 'B-2.G3.E-4.B-4': 568, 'B-2.G3.E-4.G4': 569, 'F3.D4.G#4': 570, 'A2.F3.E-4.C5': 571, 'A2.F3.D4': 572, 'B-2.F3.D4.F4': 573, 'G2.F3.D4.F4': 574, 'G3.B-3.F4': 575, 'F3.C4.G4': 576, 'E-4.C#5': 577, 'G#3.E-4.C5': 578, 'C3.F3.E-4': 579, 'C3.F3.F4': 580, 'C#3.F3.F4': 581, 'C#3.F3.G4': 582, 'G#2.E-3.C#4.G#4': 583, 'G#2.E-3.B-3.G#4': 584, 'G#3.C4.C5': 585, 'G3.C4.B-4': 586, 'B-2.F3.D4.A4': 587, 'B-2.F3.D4.B-4': 588, 'B-2.F#3.E-4.B-4': 589, 'B-3.F#4': 590, 'B2.G3.D4.F4': 591, 'E-3.C#4.G4': 592, 'G#2.G3.E-4': 593, 'G#2.F3.E-4': 594, 'B-2.G#3.E-4': 595, 'E-2.B-2.G3.D4': 596, 'E-2.B-2.G#3': 597, 'E-2.B-2.F3': 598, 'B-2.F3.C4': 599, 'C2.A2.E-3': 600, 'A2.E3.B3': 601, 'E2.B2.A3': 602, 'E2.B2.F#3': 603, 'E3.E-4': 604, 'C3.A3': 605, 'C#3.G#3.E4': 606, 'B2.F#3.E-4': 607, 'B2.F#3.E4': 608, 'B2.F#3.C#4': 609, 'C#2.B-2.E3': 610, 'A2.G#3': 611, 'C#3.B3': 612, 'A2.F#3.E4': 613, 'G2.B3.G4': 614, 'G#2.C4.G#4': 615, 'D2.B2.F3': 616, 'C2.G2.D3': 617, 'C3.G#3.E-4': 618, 'E-2.C3.F#3': 619, 'C#2.G#2.E-3': 620, 'C#3.A3.E4': 621, 'G#3.E4': 622, 'C#4.D4.E4': 623, 'E3.C#4.D4.E4': 624, 'E3.C#4.E4': 625, 'E3.D4.E4': 626, 'B3.D4.E4': 627, 'A3.D4.E4': 628, 'B3.C#4.D4.E4': 629, 'F#3.B3.C#4.D4': 630, 'B3.G4.A4': 631, 'C#4.D4.E4.F#4.G4': 632, 'E3.B3.C#4.D4.E4.F#4.G4': 633, 'D4.E4.F#4.G4': 634, 'E4.F#4.G4': 635, 'E4.F#4.G4.B4': 636, 'A3.E4.F#4.G4': 637, 'A3.F#4.G4': 638, 'D4.F#4': 639, 'B-4.B4.C#5.D5': 640, 'B-3.B-4.B4.C#5.D5': 641, 'B-3.E4': 642, 'B3.C#4.E4': 643, 'B3.C#4.F#4.G#4.A4': 644, 'F#3.B3.C#4.G#4.A4': 645, 'G#3.G#4.A4': 646, 'A3.G#4.A4': 647, 'B3.G#4.A4': 648, 'A3.C#4': 649, 'G#4.A4': 650, 'F#3.C#4.E4': 651, 'E3.D4.G#4.A4': 652, 'D4.E4.F#4': 653, 'C#4.D4.F#4': 654, 'B3.D4.F#4': 655, 'A3.D4.F#4': 656, 'G#3.D4.F#4': 657, 'G#4.B4': 658, 'A3.B3.C#4': 659, 'G2.E3.A3.C#4.A4': 660, 'D3.E3.F#4.G4': 661, 'D3.E3.F#3.F#4.G4': 662, 'D3.E3.F#3': 663, 'C2.D3.E3': 664, 'B2.G3.B3.C4.D4': 665, 'A2.C3.D3.E3': 666, 'G#2.C3.D3': 667, 'G#2.F#4': 668, 'F4.F#4': 669, 'B2.F#3.C#4.D4.E4': 670, 'A3.C#4.E4': 671, 'F#3.G3.A3': 672, 'D3.E3.F#3.A3': 673, 'B3.C#4.D4': 674, 'F3.C#4.D4': 675, 'B2.C#3': 676, 'A2.F#4': 677, 'C#4.F#4': 678, 'A4.B4': 679, 'B2.F#3.A3.B3': 680, 'B2.F#3.A3.B3.C4': 681, 'A3.B3.C4': 682, 'A3.B3.A4': 683, 'A3.B3.G4': 684, 'A3.B3.F#4.G4': 685, 'F#4.G4.A4': 686, 'E3.B3.F#4.G4': 687, 'G4.A4': 688, 'E-3.F#3': 689, 'E4.G#4': 690, 'D4.E-4.F4': 691, 'F3.D4.E-4.F4': 692, 'F3.D4.F4': 693, 'F3.E-4.F4': 694, 'C4.E-4.F4': 695, 'B-3.E-4.F4': 696, 'C4.D4.E-4.F4': 697, 'G3.C4.D4.E-4': 698, 'C4.G#4.B-4': 699, 'D4.E-4.F4.G4.G#4': 700, 'F3.C4.D4.E-4.F4.G4.G#4': 701, 'E-4.F4.G4.G#4': 702, 'F4.G4.G#4': 703, 'F4.G4.G#4.C5': 704, 'B-3.F4.G4.G#4': 705, 'B-3.G4.G#4': 706, 'E-4.G4': 707, 'B4.C5.D5.E-5': 708, 'B3.B4.C5.D5.E-5': 709, 'B3.F4': 710, 'C4.D4.F4': 711, 'C4.D4.G4.A4.B-4': 712, 'G3.C4.D4.A4.B-4': 713, 'A3.A4.B-4': 714, 'B-3.A4.B-4': 715, 'C4.A4.B-4': 716, 'B-3.D4': 717, 'A4.B-4': 718, 'G3.D4.F4': 719, 'F3.E-4.A4.B-4': 720, 'E-4.F4.G4': 721, 'D4.E-4.G4': 722, 'C4.E-4.G4': 723, 'B-3.E-4.G4': 724, 'A3.E-4.G4': 725, 'A4.C5': 726, 'F4.G4': 727, 'B-3.C4.D4': 728, 'G#2.F3.B-3.D4.B-4': 729, 'E-3.F3.G4.G#4': 730, 'E-3.F3.G3.G4.G#4': 731, 'C#2.E-3.F3': 732, 'C3.G#3.C4.C#4.E-4': 733, 'B-2.C#3.E-3.F3': 734, 'A2.C#3.E-3': 735, 'A2.G4': 736, 'C3.G3.D4.E-4.F4': 737, 'B-3.D4.F4': 738, 'G3.G#3.B-3': 739, 'E-3.F3.G3.B-3': 740, 'C4.D4.E-4': 741, 'F#3.D4.E-4': 742, 'B-2.G4': 743, 'D4.G4': 744, 'B-4.C5': 745, 'E4.F4': 746, 'C3.G3.E4': 747, 'C3.G3.B-3.C4': 748, 'C3.G3.B-3.C4.C#4': 749, 'B-3.C4.C#4': 750, 'B-3.C4.B-4': 751, 'B-3.C4.G#4': 752, 'B-3.C4.G4.G#4': 753, 'G4.G#4.B-4': 754, 'F3.C4.G4.G#4': 755, 'G#4.B-4': 756, 'C#3.B-3': 757, 'F4.A4': 758, 'D3.F3.A3': 759, 'C3.E3.B-3': 760, 'G2.G3.E4': 761, 'B-2.E3.D4': 762, 'D3.F3': 763, 'E-3.F#3.B-3': 764, 'C#3.F3.B3': 765, 'G#2.G#3.F4': 766, 'B2.F3.E-4': 767, 'C#3.G#3.C#4': 768, 'C#2.B-2.F3': 769, 'A2.G3.C#4': 770, 'D2.B2.F#3': 771, 'B-2.G#3.D4': 772, 'B-2.F#3.E-4': 773}\n",
      "{0: 0, 0.5: 1, 0.25: 2, 1.25: 3, 1.0: 4, 3.0: 5, 0.75: 6, Fraction(1, 6): 7, Fraction(1, 12): 8, 1.5: 9, Fraction(2, 3): 10, 2.0: 11, Fraction(1, 3): 12, Fraction(4, 3): 13, 2.25: 14, 1.75: 15, 2.5: 16, 4.0: 17, Fraction(5, 12): 18}\n",
      "774 19\n"
     ]
    }
   ],
   "source": [
    "def encode(data):\n",
    "    #编字典\n",
    "    vocab = {}\n",
    "    for i in data:\n",
    "        for j in i:\n",
    "            if j not in vocab:\n",
    "                vocab[j] = len(vocab)\n",
    "\n",
    "    #用字典编码\n",
    "    new_date = []\n",
    "    for line in data:\n",
    "        new_line = [vocab[node] for node in line]\n",
    "        new_date.append(new_line)\n",
    "\n",
    "    return new_date, vocab\n",
    "\n",
    "\n",
    "note, note_vocab = encode(note)\n",
    "duration, duration_vocab = encode(duration)\n",
    "\n",
    "print(note[0][:20])\n",
    "print(duration[0][:20])\n",
    "print(len(note), len(duration))\n",
    "\n",
    "print(note_vocab)\n",
    "print(duration_vocab)\n",
    "print(len(note_vocab), len(duration_vocab))"
   ]
  },
  {
   "cell_type": "code",
   "execution_count": 5,
   "metadata": {},
   "outputs": [
    {
     "name": "stderr",
     "output_type": "stream",
     "text": [
      "Using TensorFlow backend.\n"
     ]
    },
    {
     "data": {
      "text/plain": [
       "(array([[ 0,  1,  2, ...,  6,  5,  7],\n",
       "        [ 1,  2,  3, ...,  5,  7,  6],\n",
       "        [ 2,  3,  4, ...,  7,  6,  5],\n",
       "        ...,\n",
       "        [27,  4,  5, ...,  4, 27,  7],\n",
       "        [ 4,  5, 21, ..., 27,  7, 40],\n",
       "        [ 5, 21,  4, ...,  7, 40, 42]]),\n",
       " array([[0., 0., 0., ..., 0., 0., 0.],\n",
       "        [0., 0., 0., ..., 0., 0., 0.],\n",
       "        [0., 0., 0., ..., 0., 0., 0.],\n",
       "        ...,\n",
       "        [0., 0., 0., ..., 0., 0., 0.],\n",
       "        [0., 0., 0., ..., 0., 0., 0.],\n",
       "        [1., 0., 0., ..., 0., 0., 0.]], dtype=float32))"
      ]
     },
     "execution_count": 5,
     "metadata": {},
     "output_type": "execute_result"
    }
   ],
   "source": [
    "import numpy as np\n",
    "import keras\n",
    "\n",
    "\n",
    "#把一维的数据切成段,以前面的词,预测最后一个词\n",
    "def prepare_sequences(data, num_classes):\n",
    "    input = []\n",
    "    output = []\n",
    "\n",
    "    for line in data:\n",
    "        for i in range(len(line) - 32):\n",
    "            input.append(line[i:i + 32])\n",
    "            output.append(line[i + 32])\n",
    "\n",
    "    input = np.array(input)\n",
    "    output = keras.utils.np_utils.to_categorical(output,\n",
    "                                                 num_classes=num_classes)\n",
    "\n",
    "    return input, output\n",
    "\n",
    "\n",
    "prepare_sequences(note, len(note_vocab))"
   ]
  },
  {
   "cell_type": "code",
   "execution_count": 6,
   "metadata": {},
   "outputs": [
    {
     "data": {
      "text/plain": [
       "((53162, 32), (53162, 774), (53162, 32), (53162, 19))"
      ]
     },
     "execution_count": 6,
     "metadata": {},
     "output_type": "execute_result"
    }
   ],
   "source": [
    "def get_input_output():\n",
    "    note_input, note_output = prepare_sequences(note, len(note_vocab))\n",
    "    duration_input, duration_output = prepare_sequences(\n",
    "        duration, len(duration_vocab))\n",
    "\n",
    "    input = [note_input, duration_input]\n",
    "    output = [note_output, duration_output]\n",
    "\n",
    "    return input, output\n",
    "\n",
    "\n",
    "input, output = get_input_output()\n",
    "\n",
    "input[0].shape, output[0].shape, input[1].shape, output[1].shape"
   ]
  },
  {
   "cell_type": "code",
   "execution_count": 7,
   "metadata": {},
   "outputs": [
    {
     "name": "stdout",
     "output_type": "stream",
     "text": [
      "WARNING:tensorflow:From /root/anaconda3/envs/gdl/lib/python3.6/site-packages/keras/backend/tensorflow_backend.py:74: The name tf.get_default_graph is deprecated. Please use tf.compat.v1.get_default_graph instead.\n",
      "\n",
      "WARNING:tensorflow:From /root/anaconda3/envs/gdl/lib/python3.6/site-packages/keras/backend/tensorflow_backend.py:517: The name tf.placeholder is deprecated. Please use tf.compat.v1.placeholder instead.\n",
      "\n",
      "WARNING:tensorflow:From /root/anaconda3/envs/gdl/lib/python3.6/site-packages/keras/backend/tensorflow_backend.py:4138: The name tf.random_uniform is deprecated. Please use tf.random.uniform instead.\n",
      "\n",
      "WARNING:tensorflow:From /root/anaconda3/envs/gdl/lib/python3.6/site-packages/keras/optimizers.py:790: The name tf.train.Optimizer is deprecated. Please use tf.compat.v1.train.Optimizer instead.\n",
      "\n",
      "WARNING:tensorflow:From /root/anaconda3/envs/gdl/lib/python3.6/site-packages/keras/backend/tensorflow_backend.py:3295: The name tf.log is deprecated. Please use tf.math.log instead.\n",
      "\n"
     ]
    },
    {
     "data": {
      "text/plain": [
       "<keras.engine.training.Model at 0x7f87eb6feda0>"
      ]
     },
     "execution_count": 7,
     "metadata": {},
     "output_type": "execute_result"
    }
   ],
   "source": [
    "def build_model():\n",
    "    note_input = keras.layers.Input(shape=(None, ))\n",
    "    duration_input = keras.layers.Input(shape=(None, ))\n",
    "\n",
    "    x1 = keras.layers.Embedding(len(note_vocab), 100)(note_input)\n",
    "    x2 = keras.layers.Embedding(len(duration_vocab), 100)(duration_input)\n",
    "\n",
    "    x = keras.layers.Concatenate()([x1, x2])\n",
    "\n",
    "    x = keras.models.Sequential([\n",
    "        keras.layers.LSTM(256, return_sequences=True),\n",
    "        keras.layers.LSTM(256, return_sequences=True),\n",
    "    ])(x)\n",
    "\n",
    "    e = keras.models.Sequential([\n",
    "        keras.layers.Dense(1, activation='tanh'),\n",
    "        keras.layers.Reshape([-1]),\n",
    "        keras.layers.Activation('softmax'),\n",
    "        keras.layers.RepeatVector(256),\n",
    "        keras.layers.Permute([2, 1]),\n",
    "    ])(x)\n",
    "\n",
    "    x = keras.layers.Multiply()([x, e])\n",
    "    x = keras.layers.Lambda(lambda i: keras.backend.sum(i, axis=1),\n",
    "                            output_shape=(256, ))(x)\n",
    "    note_output = keras.layers.Dense(len(note_vocab), activation='softmax')(x)\n",
    "    duration_output = keras.layers.Dense(len(duration_vocab),\n",
    "                                         activation='softmax')(x)\n",
    "\n",
    "    model = keras.models.Model([note_input, duration_input],\n",
    "                               [note_output, duration_output])\n",
    "\n",
    "    model.compile(\n",
    "        loss=['categorical_crossentropy', 'categorical_crossentropy'],\n",
    "        optimizer=keras.optimizers.RMSprop(lr=0.001))\n",
    "\n",
    "    return model\n",
    "\n",
    "\n",
    "model = build_model()\n",
    "\n",
    "model"
   ]
  },
  {
   "cell_type": "code",
   "execution_count": 8,
   "metadata": {},
   "outputs": [
    {
     "name": "stdout",
     "output_type": "stream",
     "text": [
      "WARNING:tensorflow:From /root/anaconda3/envs/gdl/lib/python3.6/site-packages/tensorflow/python/ops/math_grad.py:1250: add_dispatch_support.<locals>.wrapper (from tensorflow.python.ops.array_ops) is deprecated and will be removed in a future version.\n",
      "Instructions for updating:\n",
      "Use tf.where in 2.0, which has the same broadcast rule as np.where\n",
      "WARNING:tensorflow:From /root/anaconda3/envs/gdl/lib/python3.6/site-packages/keras/backend/tensorflow_backend.py:986: The name tf.assign_add is deprecated. Please use tf.compat.v1.assign_add instead.\n",
      "\n",
      "Train on 42529 samples, validate on 10633 samples\n",
      "Epoch 1/20\n",
      "42529/42529 [==============================] - 99s 2ms/step - loss: 4.2513 - dense_2_loss: 3.5614 - dense_3_loss: 0.6899 - val_loss: 4.7055 - val_dense_2_loss: 3.8565 - val_dense_3_loss: 0.8491\n",
      "0\n",
      "Epoch 2/20\n",
      "42529/42529 [==============================] - 98s 2ms/step - loss: 3.7205 - dense_2_loss: 3.1797 - dense_3_loss: 0.5408 - val_loss: 4.5344 - val_dense_2_loss: 3.7185 - val_dense_3_loss: 0.8159\n",
      "1\n",
      "Epoch 3/20\n",
      "42529/42529 [==============================] - 98s 2ms/step - loss: 3.4867 - dense_2_loss: 3.0231 - dense_3_loss: 0.4636 - val_loss: 4.8023 - val_dense_2_loss: 3.8016 - val_dense_3_loss: 1.0006\n",
      "2\n",
      "Epoch 4/20\n",
      "42529/42529 [==============================] - 98s 2ms/step - loss: 3.3193 - dense_2_loss: 2.9080 - dense_3_loss: 0.4113 - val_loss: 4.4798 - val_dense_2_loss: 3.5864 - val_dense_3_loss: 0.8934\n",
      "3\n",
      "Epoch 5/20\n",
      "42529/42529 [==============================] - 98s 2ms/step - loss: 3.1565 - dense_2_loss: 2.7972 - dense_3_loss: 0.3593 - val_loss: 4.5762 - val_dense_2_loss: 3.5712 - val_dense_3_loss: 1.0049\n",
      "4\n",
      "Epoch 6/20\n",
      "42529/42529 [==============================] - 98s 2ms/step - loss: 3.0020 - dense_2_loss: 2.6898 - dense_3_loss: 0.3121 - val_loss: 4.7727 - val_dense_2_loss: 3.7600 - val_dense_3_loss: 1.0127\n",
      "5\n",
      "Epoch 7/20\n",
      "42529/42529 [==============================] - 98s 2ms/step - loss: 2.8425 - dense_2_loss: 2.5738 - dense_3_loss: 0.2687 - val_loss: 4.9168 - val_dense_2_loss: 3.6715 - val_dense_3_loss: 1.2454\n",
      "6\n",
      "Epoch 8/20\n",
      "42529/42529 [==============================] - 98s 2ms/step - loss: 2.6804 - dense_2_loss: 2.4557 - dense_3_loss: 0.2247 - val_loss: 5.1645 - val_dense_2_loss: 3.7302 - val_dense_3_loss: 1.4343\n",
      "7\n",
      "Epoch 9/20\n",
      "42529/42529 [==============================] - 98s 2ms/step - loss: 2.5197 - dense_2_loss: 2.3274 - dense_3_loss: 0.1923 - val_loss: 5.2515 - val_dense_2_loss: 3.8443 - val_dense_3_loss: 1.4072\n",
      "8\n",
      "Epoch 10/20\n",
      "42529/42529 [==============================] - 98s 2ms/step - loss: 2.3798 - dense_2_loss: 2.2173 - dense_3_loss: 0.1625 - val_loss: 5.8140 - val_dense_2_loss: 4.1481 - val_dense_3_loss: 1.6659\n",
      "9\n",
      "Epoch 11/20\n",
      "42529/42529 [==============================] - 98s 2ms/step - loss: 2.2637 - dense_2_loss: 2.1261 - dense_3_loss: 0.1376 - val_loss: 6.0465 - val_dense_2_loss: 4.2798 - val_dense_3_loss: 1.7667\n",
      "10\n",
      "Epoch 12/20\n",
      "42529/42529 [==============================] - 98s 2ms/step - loss: 2.1609 - dense_2_loss: 2.0378 - dense_3_loss: 0.1232 - val_loss: 6.1596 - val_dense_2_loss: 4.4052 - val_dense_3_loss: 1.7544\n",
      "11\n",
      "Epoch 13/20\n",
      "42529/42529 [==============================] - 98s 2ms/step - loss: 2.0491 - dense_2_loss: 1.9415 - dense_3_loss: 0.1076 - val_loss: 6.3409 - val_dense_2_loss: 4.4816 - val_dense_3_loss: 1.8593\n",
      "12\n",
      "Epoch 14/20\n",
      "42529/42529 [==============================] - 98s 2ms/step - loss: 1.9393 - dense_2_loss: 1.8408 - dense_3_loss: 0.0985 - val_loss: 6.5004 - val_dense_2_loss: 4.5988 - val_dense_3_loss: 1.9016\n",
      "13\n",
      "Epoch 15/20\n",
      "42529/42529 [==============================] - 98s 2ms/step - loss: 1.8155 - dense_2_loss: 1.7267 - dense_3_loss: 0.0888 - val_loss: 6.6667 - val_dense_2_loss: 4.6960 - val_dense_3_loss: 1.9707\n",
      "14\n",
      "Epoch 16/20\n",
      "42529/42529 [==============================] - 98s 2ms/step - loss: 1.7020 - dense_2_loss: 1.6204 - dense_3_loss: 0.0816 - val_loss: 6.8498 - val_dense_2_loss: 4.7874 - val_dense_3_loss: 2.0624\n",
      "15\n",
      "Epoch 17/20\n",
      "42529/42529 [==============================] - 98s 2ms/step - loss: 1.5955 - dense_2_loss: 1.5201 - dense_3_loss: 0.0754 - val_loss: 6.9344 - val_dense_2_loss: 4.8593 - val_dense_3_loss: 2.0751\n",
      "16\n",
      "Epoch 18/20\n",
      "42529/42529 [==============================] - 98s 2ms/step - loss: 1.4926 - dense_2_loss: 1.4226 - dense_3_loss: 0.0700 - val_loss: 7.2345 - val_dense_2_loss: 5.1542 - val_dense_3_loss: 2.0803\n",
      "17\n",
      "Epoch 19/20\n",
      "42529/42529 [==============================] - 98s 2ms/step - loss: 1.4049 - dense_2_loss: 1.3408 - dense_3_loss: 0.0642 - val_loss: 7.5128 - val_dense_2_loss: 5.3212 - val_dense_3_loss: 2.1916\n",
      "18\n",
      "Epoch 20/20\n",
      "42529/42529 [==============================] - 98s 2ms/step - loss: 1.3287 - dense_2_loss: 1.2664 - dense_3_loss: 0.0624 - val_loss: 7.5138 - val_dense_2_loss: 5.3279 - val_dense_3_loss: 2.1859\n",
      "19\n"
     ]
    },
    {
     "data": {
      "text/plain": [
       "<keras.callbacks.History at 0x7f87f332c0f0>"
      ]
     },
     "execution_count": 8,
     "metadata": {},
     "output_type": "execute_result"
    }
   ],
   "source": [
    "#在训练过程中打印预测图片\n",
    "class CustomCallback(keras.callbacks.Callback):\n",
    "\n",
    "    def on_epoch_end(self, epoch, logs):\n",
    "        if epoch % 1 == 0:\n",
    "            print(epoch)\n",
    "\n",
    "\n",
    "model.fit(input,\n",
    "          output,\n",
    "          epochs=20,\n",
    "          batch_size=32,\n",
    "          validation_split=0.2,\n",
    "          callbacks=[\n",
    "              keras.callbacks.EarlyStopping(monitor='loss',\n",
    "                                            restore_best_weights=True,\n",
    "                                            patience=10),\n",
    "              CustomCallback()\n",
    "          ],\n",
    "          shuffle=True,\n",
    "          verbose=1)"
   ]
  },
  {
   "cell_type": "code",
   "execution_count": 9,
   "metadata": {},
   "outputs": [
    {
     "name": "stdout",
     "output_type": "stream",
     "text": [
      "[[22, 1], [22, 1], [7, 1], [22, 1], [7, 1], [22, 1], [7, 1], [22, 1], [22, 1], [7, 1], [22, 1], [22, 1], [7, 1], [7, 1], [22, 1], [22, 1], [7, 1], [5, 1], [5, 1], [22, 1], [7, 1], [22, 1], [5, 1], [7, 1], [22, 1], [7, 1], [5, 1], [22, 1], [4, 1], [5, 1], [21, 1], [4, 1], [5, 1], [22, 1], [5, 1], [4, 1], [22, 1], [5, 1], [4, 1], [5, 1], [22, 1], [4, 1], [23, 1], [23, 1], [4, 1], [21, 1], [4, 1], [23, 1], [1, 1], [23, 1]]\n"
     ]
    },
    {
     "data": {
      "text/plain": [
       "50"
      ]
     },
     "execution_count": 9,
     "metadata": {},
     "output_type": "execute_result"
    }
   ],
   "source": [
    "def get_pred():\n",
    "    pred = []\n",
    "\n",
    "    def random_sample(data):\n",
    "        data = np.log(data) * 2\n",
    "        data = np.exp(data)\n",
    "        data = data / np.sum(data)\n",
    "        return np.random.choice(len(data), p=data)\n",
    "\n",
    "    note = [note_vocab['START']] * 32\n",
    "    duration = [duration_vocab[0]] * 32\n",
    "\n",
    "    for _ in range(50):\n",
    "        input = [np.array([note]), np.array([duration])]\n",
    "\n",
    "        output_note, output_duration = model.predict(input, verbose=0)\n",
    "\n",
    "        output_note = random_sample(output_note[0])\n",
    "        output_duration = random_sample(output_duration[0])\n",
    "\n",
    "        pred.append([output_note, output_duration])\n",
    "\n",
    "        note.append(output_note)\n",
    "        duration.append(output_duration)\n",
    "\n",
    "        if len(note) > 32:\n",
    "            note = note[-32:]\n",
    "            duration = duration[-32:]\n",
    "\n",
    "        if note_vocab['START'] == output_note:\n",
    "            break\n",
    "\n",
    "    return pred\n",
    "\n",
    "\n",
    "pred = get_pred()\n",
    "\n",
    "print(pred)\n",
    "\n",
    "len(pred)"
   ]
  },
  {
   "cell_type": "code",
   "execution_count": 10,
   "metadata": {},
   "outputs": [
    {
     "data": {
      "text/html": [
       "\n",
       "                <div id='midiPlayerDiv273508'></div>\n",
       "                <link rel=\"stylesheet\" href=\"//cuthbertLab.github.io/music21j/css/m21.css\"\n",
       "                    type=\"text/css\" />\n",
       "                <script>\n",
       "                require.config({\n",
       "                    paths: {'music21': '//cuthbertLab.github.io/music21j/src/music21'}\n",
       "                });\n",
       "                require(['music21'], function() {\n",
       "                               mp = new music21.miditools.MidiPlayer();\n",
       "                               mp.addPlayer('#midiPlayerDiv273508');\n",
       "                               mp.base64Load('data:audio/midi;base64,TVRoZAAAAAYAAQABBABNVHJrAAABzwD/AwAA4ABAAJAzWoQAgDMAAJAzWoQAgDMAAJAyWoQAgDIAAJAzWoQAgDMAAJAyWoQAgDIAAJAzWoQAgDMAAJAyWoQAgDIAAJAzWoQAgDMAAJAzWoQAgDMAAJAyWoQAgDIAAJAzWoQAgDMAAJAzWoQAgDMAAJAyWoQAgDIAAJAyWoQAgDIAAJAzWoQAgDMAAJAzWoQAgDMAAJAyWoQAgDIAAJA1WoQAgDUAAJA1WoQAgDUAAJAzWoQAgDMAAJAyWoQAgDIAAJAzWoQAgDMAAJA1WoQAgDUAAJAyWoQAgDIAAJAzWoQAgDMAAJAyWoQAgDIAAJA1WoQAgDUAAJAzWoQAgDMAAJA3WoQAgDcAAJA1WoQAgDUAAJA4WoQAgDgAAJA3WoQAgDcAAJA1WoQAgDUAAJAzWoQAgDMAAJA1WoQAgDUAAJA3WoQAgDcAAJAzWoQAgDMAAJA1WoQAgDUAAJA3WoQAgDcAAJA1WoQAgDUAAJAzWoQAgDMAAJA3WoQAgDcAAJA6WoQAgDoAAJA6WoQAgDoAAJA3WoQAgDcAAJA4WoQAgDgAAJA3WoQAgDcAAJA6WoQAgDoAAJA8WoQAgDwAAJA6WoQAgDoAiAD/LwA=');\n",
       "                        });\n",
       "                </script>"
      ],
      "text/plain": [
       "<IPython.core.display.HTML object>"
      ]
     },
     "metadata": {},
     "output_type": "display_data"
    }
   ],
   "source": [
    "def save_midi():\n",
    "    stream = music21.stream.Stream()\n",
    "\n",
    "    #反字典\n",
    "    note_vocab_r = {v: k for k, v in note_vocab.items()}\n",
    "    duration_vocab_r = {v: k for k, v in duration_vocab.items()}\n",
    "\n",
    "    for (n, d) in pred:\n",
    "        n = note_vocab_r[n]\n",
    "        d = duration_vocab_r[d]\n",
    "\n",
    "        #复合音符\n",
    "        if ('.' in n):\n",
    "            chord_note = []\n",
    "            for i in n.split('.'):\n",
    "                note_i = music21.note.Note(i)\n",
    "                note_i.duration = music21.duration.Duration(d)\n",
    "                note_i.storedInstrument = music21.instrument.Violoncello()\n",
    "                chord_note.append(note_i)\n",
    "            stream.append(music21.chord.Chord(chord_note))\n",
    "        #rest音符\n",
    "        elif n == 'rest':\n",
    "            new_note = music21.note.Rest()\n",
    "            new_note.duration = music21.duration.Duration(d)\n",
    "            new_note.storedInstrument = music21.instrument.Violoncello()\n",
    "            stream.append(new_note)\n",
    "        #单音符\n",
    "        elif n != 'START':\n",
    "            new_note = music21.note.Note(n)\n",
    "            new_note.duration = music21.duration.Duration(d)\n",
    "            new_note.storedInstrument = music21.instrument.Violoncello()\n",
    "            stream.append(new_note)\n",
    "\n",
    "    stream = stream.chordify()\n",
    "    stream.write('midi', fp='pred.mid')\n",
    "\n",
    "    show('pred.mid')\n",
    "\n",
    "\n",
    "save_midi()"
   ]
  }
 ],
 "metadata": {
  "kernelspec": {
   "display_name": "Python 3 (ipykernel)",
   "language": "python",
   "name": "python3"
  },
  "language_info": {
   "codemirror_mode": {
    "name": "ipython",
    "version": 3
   },
   "file_extension": ".py",
   "mimetype": "text/x-python",
   "name": "python",
   "nbconvert_exporter": "python",
   "pygments_lexer": "ipython3",
   "version": "3.9.12"
  }
 },
 "nbformat": 4,
 "nbformat_minor": 2
}
