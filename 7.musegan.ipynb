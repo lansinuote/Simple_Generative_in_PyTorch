{
 "cells": [
  {
   "cell_type": "code",
   "execution_count": 1,
   "id": "e93fca6e",
   "metadata": {},
   "outputs": [
    {
     "name": "stderr",
     "output_type": "stream",
     "text": [
      "Using custom data configuration lansinuote--gen.2.chorales-2bf7c47eabbdde89\n",
      "Found cached dataset parquet (/root/.cache/huggingface/datasets/lansinuote___parquet/lansinuote--gen.2.chorales-2bf7c47eabbdde89/0.0.0/2a3b91fbd88a2c90d1dbbb32b460cf621d31bd5b05b934492fdef7d8d6f236ec)\n"
     ]
    },
    {
     "data": {
      "text/plain": [
       "((229, 4, 2, 16, 84), -1.0, 1.0)"
      ]
     },
     "execution_count": 1,
     "metadata": {},
     "output_type": "execute_result"
    }
   ],
   "source": [
    "#加载全部数据到内存中\n",
    "def get_data():\n",
    "    from datasets import load_dataset\n",
    "    import numpy as np\n",
    "\n",
    "    #加载\n",
    "    dataset = load_dataset('lansinuote/gen.2.chorales', split='train')\n",
    "\n",
    "    #加载为numpy数据\n",
    "    data = np.empty((229, 4, 2, 16, 84), dtype=np.float32)\n",
    "    for i in range(len(dataset)):\n",
    "        data[i] = dataset[i]['data']\n",
    "\n",
    "    return data\n",
    "\n",
    "\n",
    "data = get_data()\n",
    "\n",
    "data.shape, data.min(), data.max()"
   ]
  },
  {
   "cell_type": "code",
   "execution_count": 2,
   "id": "9e6c9a3e",
   "metadata": {},
   "outputs": [
    {
     "data": {
      "text/plain": [
       "(3, torch.Size([64, 4, 2, 16, 84]))"
      ]
     },
     "execution_count": 2,
     "metadata": {},
     "output_type": "execute_result"
    }
   ],
   "source": [
    "import torch\n",
    "\n",
    "loader = torch.utils.data.DataLoader(\n",
    "    dataset=data,\n",
    "    batch_size=64,\n",
    "    shuffle=True,\n",
    "    drop_last=True,\n",
    ")\n",
    "\n",
    "len(loader), next(iter(loader)).shape"
   ]
  },
  {
   "cell_type": "code",
   "execution_count": 3,
   "id": "f6100c70",
   "metadata": {},
   "outputs": [
    {
     "data": {
      "text/html": [
       "\n",
       "                <div id=\"midiPlayerDiv2511\"></div>\n",
       "                <link rel=\"stylesheet\" href=\"//cuthbertLab.github.io/music21j/css/m21.css\"\n",
       "                    type=\"text/css\" />\n",
       "                \n",
       "                <script>\n",
       "                require.config({\n",
       "                    paths: {'music21': '//cuthbertLab.github.io/music21j/src/music21'}\n",
       "                });\n",
       "                require(['music21'], function() {\n",
       "                               mp = new music21.miditools.MidiPlayer();\n",
       "                               mp.addPlayer(\"#midiPlayerDiv2511\");\n",
       "                               mp.base64Load(\"data:audio/midi;base64,TVRoZAAAAAYAAQAFBABNVHJrAAAAFAD/UQMN3yMA/1gEBAIYCIgA/y8ATVRyawAAARYA/wMAAOAAQADAAIgAkENaggCAQwAAkEZaggCARgAAkEVaggCARQAAkENahACAQwAAkEZaggCARgAAkEVaggCARQAAkENaggCAQwAAkD5aggCAPgAAkENaggCAQwAAkEJaggCAQgAAkENaggCAQwAAkD9aggCAPwAAkEBaggCAQAAAkEJaggCAQgAAkD5aggCAPgAAkDpaggCAOgAAkD5ahACAPgAAkDpaggCAOgAAkDxaggCAPAAAkDdaggCANwAAkD5aggCAPgAAkDpahACAOgAAkDdaggCANwAAkDJaggCAMgAAkDNaggCAMwAAkDBaggCAMAAAkDFaggCAMQAAkDJaggCAMgAAkCtaggCAKwCIAP8vAE1UcmsAAAEWAP8DAADgAEAAwACIAJBDWoIAgEMAAJBGWoIAgEYAAJBFWoIAgEUAAJBDWoQAgEMAAJBGWoIAgEYAAJBFWoIAgEUAAJBDWoIAgEMAAJA+WoIAgD4AAJBDWoIAgEMAAJBCWoIAgEIAAJBDWoIAgEMAAJA/WoIAgD8AAJBAWoIAgEAAAJBCWoIAgEIAAJA+WoIAgD4AAJA6WoIAgDoAAJA+WoQAgD4AAJA6WoIAgDoAAJA8WoIAgDwAAJA3WoIAgDcAAJA+WoIAgD4AAJA6WoQAgDoAAJA3WoIAgDcAAJAyWoIAgDIAAJAzWoIAgDMAAJAwWoIAgDAAAJAxWoIAgDEAAJAyWoIAgDIAAJArWoIAgCsAiAD/LwBNVHJrAAABKAD/AwAA4ABAAMAAiACQRVqCAIBFAACQRlqCAIBGAACQRVqCAIBFAACQQ1qEAIBDAACQRlqCAIBGAACQRVqCAIBFAACQQ1qCAIBDAACQQlqCAIBCAACQQ1qCAIBDAACQQlqCAIBCAACQQ1qCAIBDAACQP1qCAIA/AACQQFqCAIBAAACQQlqCAIBCAACQPlqCAIA+AACQPFqCAIA8AACQPlqCAIA+AACQPFqCAIA8AACQOlqCAIA6AACQPFqCAIA8AACQN1qCAIA3AACQPlqCAIA+AACQOlqCAIA6AACQOVqCAIA5AACQN1qCAIA3AACQMlqCAIAyAACQM1qCAIAzAACQMFqCAIAwAACQMVqCAIAxAACQMlqCAIAyAACQK1qCAIArAIgA/y8ATVRyawAAASgA/wMAAOAAQADAAIgAkEVaggCARQAAkEZaggCARgAAkEVaggCARQAAkENahACAQwAAkEZaggCARgAAkEVaggCARQAAkENaggCAQwAAkEJaggCAQgAAkENaggCAQwAAkEJaggCAQgAAkENaggCAQwAAkD9aggCAPwAAkEBaggCAQAAAkEJaggCAQgAAkD5aggCAPgAAkDxaggCAPAAAkD5aggCAPgAAkDxaggCAPAAAkDpaggCAOgAAkDxaggCAPAAAkDdaggCANwAAkD5aggCAPgAAkDpaggCAOgAAkDlaggCAOQAAkDdaggCANwAAkDJaggCAMgAAkDNaggCAMwAAkDBaggCAMAAAkDFaggCAMQAAkDJaggCAMgAAkCtaggCAKwCIAP8vAA==\");\n",
       "                        });\n",
       "                </script>"
      ],
      "text/plain": [
       "<IPython.core.display.HTML object>"
      ]
     },
     "metadata": {},
     "output_type": "display_data"
    },
    {
     "data": {
      "text/html": [
       "\n",
       "                <div id=\"midiPlayerDiv4878\"></div>\n",
       "                <link rel=\"stylesheet\" href=\"//cuthbertLab.github.io/music21j/css/m21.css\"\n",
       "                    type=\"text/css\" />\n",
       "                \n",
       "                <script>\n",
       "                require.config({\n",
       "                    paths: {'music21': '//cuthbertLab.github.io/music21j/src/music21'}\n",
       "                });\n",
       "                require(['music21'], function() {\n",
       "                               mp = new music21.miditools.MidiPlayer();\n",
       "                               mp.addPlayer(\"#midiPlayerDiv4878\");\n",
       "                               mp.base64Load(\"data:audio/midi;base64,TVRoZAAAAAYAAQAFBABNVHJrAAAAFAD/UQMN3yMA/1gEBAIYCIgA/y8ATVRyawAAAPsA/wMAAOAAQADAAIgAkEVahACARQAAkEdaggCARwAAkEhaggCASAAAkEpaggCASgAAkEdaggCARwAAkEhaggCASAAAkEpaggCASgAAkEBahgCAQAAAkDxaggCAPAAAkEVaggCARQAAkD5aggCAPgAAkEBaggCAQAAAkERaggCARAAAkDxahgCAPAAAkDlaggCAOQAAkDtahACAOwAAkDxaggCAPAAAkEBaggCAQAAAkC1aggCALQAAkDlaggCAOQAAkDhaggCAOAAAkDlaggCAOQAAkDZaggCANgAAkDdaggCANwAAkDlaggCAOQAAkDtaggCAOwCIAP8vAE1UcmsAAAD7AP8DAADgAEAAwACIAJBFWoQAgEUAAJBHWoIAgEcAAJBIWoIAgEgAAJBKWoIAgEoAAJBHWoIAgEcAAJBIWoIAgEgAAJBKWoIAgEoAAJBAWoYAgEAAAJA8WoIAgDwAAJBFWoIAgEUAAJA+WoIAgD4AAJBAWoIAgEAAAJBEWoIAgEQAAJA8WoYAgDwAAJA5WoIAgDkAAJA7WoQAgDsAAJA8WoIAgDwAAJBAWoIAgEAAAJAtWoIAgC0AAJA5WoIAgDkAAJA4WoIAgDgAAJA5WoIAgDkAAJA2WoIAgDYAAJA3WoIAgDcAAJA5WoIAgDkAAJA7WoIAgDsAiAD/LwBNVHJrAAABKAD/AwAA4ABAAMAAiACQRVqEAIBFAACQR1qCAIBHAACQSFqCAIBIAACQSlqCAIBKAACQSFqCAIBIAACQR1qCAIBHAACQSlqCAIBKAACQPlqCAIA+AACQQVqCAIBBAACQPlqCAIA+AACQQFqCAIBAAACQQlqCAIBCAACQQ1qCAIBDAACQRVqCAIBFAACQRFqCAIBEAACQO1qCAIA7AACQPlqCAIA+AACQO1qCAIA7AACQPFqCAIA8AACQOVqCAIA5AACQQFqCAIBAAACQQVqCAIBBAACQPlqCAIA+AACQLVqCAIAtAACQOVqCAIA5AACQOFqCAIA4AACQOVqCAIA5AACQNlqCAIA2AACQOVqCAIA5AACQN1qCAIA3AACQO1qCAIA7AIgA/y8ATVRyawAAARYA/wMAAOAAQADAAIgAkEVahACARQAAkEdaggCARwAAkEhaggCASAAAkEpaggCASgAAkEhahACASAAAkEpaggCASgAAkD5aggCAPgAAkEFaggCAQQAAkD5aggCAPgAAkEBaggCAQAAAkEJaggCAQgAAkENaggCAQwAAkEVaggCARQAAkERaggCARAAAkDtaggCAOwAAkD5aggCAPgAAkDtaggCAOwAAkDxaggCAPAAAkDlaggCAOQAAkEBaggCAQAAAkEFaggCAQQAAkD5aggCAPgAAkC1aggCALQAAkDlaggCAOQAAkDhaggCAOAAAkDlaggCAOQAAkDZaggCANgAAkDlahACAOQAAkDtaggCAOwCIAP8vAA==\");\n",
       "                        });\n",
       "                </script>"
      ],
      "text/plain": [
       "<IPython.core.display.HTML object>"
      ]
     },
     "metadata": {},
     "output_type": "display_data"
    },
    {
     "data": {
      "text/html": [
       "\n",
       "                <div id=\"midiPlayerDiv7246\"></div>\n",
       "                <link rel=\"stylesheet\" href=\"//cuthbertLab.github.io/music21j/css/m21.css\"\n",
       "                    type=\"text/css\" />\n",
       "                \n",
       "                <script>\n",
       "                require.config({\n",
       "                    paths: {'music21': '//cuthbertLab.github.io/music21j/src/music21'}\n",
       "                });\n",
       "                require(['music21'], function() {\n",
       "                               mp = new music21.miditools.MidiPlayer();\n",
       "                               mp.addPlayer(\"#midiPlayerDiv7246\");\n",
       "                               mp.base64Load(\"data:audio/midi;base64,TVRoZAAAAAYAAQAFBABNVHJrAAAAFAD/UQMN3yMA/1gEBAIYCIgA/y8ATVRyawAAAQ0A/wMAAOAAQADAAIgAkEdaggCARwAAkEZaggCARgAAkEdaggCARwAAkEpaggCASgAAkExaggCATAAAkEpaggCASgAAkElaggCASQAAkEdaggCARwAAkENaggCAQwAAkEJaiACAQgAAkEJahACAQgAAkD9aggCAPwAAkEBaggCAQAAAkD1aggCAPQAAkD5aggCAPgAAkDtaggCAOwAAkD1aggCAPQAAkDtaggCAOwAAkDpaggCAOgAAkDZaggCANgAAkDRaggCANAAAkDZaggCANgAAkDJaggCAMgAAkC9aggCALwAAkC5aggCALgAAkC9aggCALwAAkCpaggCAKgAAkC9aggCALwCIAP8vAE1UcmsAAAENAP8DAADgAEAAwACIAJBHWoIAgEcAAJBGWoIAgEYAAJBHWoIAgEcAAJBKWoIAgEoAAJBMWoIAgEwAAJBKWoIAgEoAAJBJWoIAgEkAAJBHWoIAgEcAAJBDWoIAgEMAAJBCWogAgEIAAJBCWoQAgEIAAJA/WoIAgD8AAJBAWoIAgEAAAJA9WoIAgD0AAJA+WoIAgD4AAJA7WoIAgDsAAJA9WoIAgD0AAJA7WoIAgDsAAJA6WoIAgDoAAJA2WoIAgDYAAJA0WoIAgDQAAJA2WoIAgDYAAJAyWoIAgDIAAJAvWoIAgC8AAJAuWoIAgC4AAJAvWoIAgC8AAJAqWoIAgCoAAJAvWoIAgC8AiAD/LwBNVHJrAAABDQD/AwAA4ABAAMAAiACQR1qCAIBHAACQRlqCAIBGAACQSVqCAIBJAACQSlqCAIBKAACQTFqCAIBMAACQSlqCAIBKAACQSVqCAIBJAACQR1qCAIBHAACQQ1qCAIBDAACQQlqIAIBCAACQQlqCAIBCAACQQFqCAIBAAACQP1qCAIA/AACQPlqCAIA+AACQPVqCAIA9AACQOlqCAIA6AACQO1qCAIA7AACQPVqCAIA9AACQO1qCAIA7AACQOlqCAIA6AACQNlqCAIA2AACQNFqEAIA0AACQMVqCAIAxAACQL1qCAIAvAACQLlqCAIAuAACQL1qCAIAvAACQKlqCAIAqAACQL1qCAIAvAIgA/y8ATVRyawAAAQ0A/wMAAOAAQADAAIgAkEdaggCARwAAkEZaggCARgAAkElaggCASQAAkEpaggCASgAAkExaggCATAAAkEpaggCASgAAkElaggCASQAAkEdaggCARwAAkENaggCAQwAAkEJaiACAQgAAkEJaggCAQgAAkEBaggCAQAAAkD9aggCAPwAAkD5aggCAPgAAkD1aggCAPQAAkDpaggCAOgAAkDtaggCAOwAAkD1aggCAPQAAkDtaggCAOwAAkDpaggCAOgAAkDZaggCANgAAkDRahACANAAAkDFaggCAMQAAkC9aggCALwAAkC5aggCALgAAkC9aggCALwAAkCpaggCAKgAAkC9aggCALwCIAP8vAA==\");\n",
       "                        });\n",
       "                </script>"
      ],
      "text/plain": [
       "<IPython.core.display.HTML object>"
      ]
     },
     "metadata": {},
     "output_type": "display_data"
    }
   ],
   "source": [
    "import music21\n",
    "\n",
    "\n",
    "#工具类,不重要\n",
    "class Show():\n",
    "    #工具函数,不重要\n",
    "    def __merge_note(self, note, duration=None):\n",
    "        import numpy as np\n",
    "\n",
    "        if duration is None:\n",
    "            duration = np.full(note.shape, fill_value=0.25, dtype=np.float32)\n",
    "\n",
    "        #从前往后遍历\n",
    "        for i in range(len(note) - 1):\n",
    "            j = i + 1\n",
    "\n",
    "            #判断相连的两个note是否相同,并且duration相加不大于1.0\n",
    "            if note[i] == note[j] and duration[i] + duration[j] <= 1.0:\n",
    "\n",
    "                #duration合并\n",
    "                duration[i] += duration[j]\n",
    "\n",
    "                #删除重复的note\n",
    "                note = np.delete(note, j, axis=0)\n",
    "                duration = np.delete(duration, j, axis=0)\n",
    "\n",
    "                #递归调用\n",
    "                return self.__merge_note(note, duration)\n",
    "\n",
    "        return note, duration\n",
    "\n",
    "    #工具函数,不重要\n",
    "    def __save_to_mid(self, data):\n",
    "        #data -> [32, 4]\n",
    "        stream = music21.stream.Score()\n",
    "        stream.append(music21.tempo.MetronomeMark(number=66))\n",
    "\n",
    "        for i in range(4):\n",
    "            channel = music21.stream.Part()\n",
    "\n",
    "            notes, durations = self.__merge_note(data[:, i])\n",
    "            notes, durations = notes.tolist(), durations.tolist()\n",
    "            for n, d in zip(notes, durations):\n",
    "                note = music21.note.Note(n)\n",
    "                note.duration = music21.duration.Duration(d)\n",
    "                channel.append(note)\n",
    "\n",
    "            stream.append(channel)\n",
    "\n",
    "        stream.write('midi', fp='./datas/temp.midi')\n",
    "\n",
    "    def __call__(self, data):\n",
    "        #[4, 2, 16, 84] -> [4, 2, 16] -> [32, 4]\n",
    "        data = data.argmax(dim=-1).reshape(32, 4)\n",
    "        data = data.to('cpu').detach().numpy()\n",
    "        self.__save_to_mid(data)\n",
    "\n",
    "        f = music21.midi.MidiFile()\n",
    "        f.open('./datas/temp.midi')\n",
    "        f.read()\n",
    "        f.close()\n",
    "        music21.midi.translate.midiFileToStream(f).show('midi')\n",
    "\n",
    "\n",
    "show = Show()\n",
    "\n",
    "for _ in range(3):\n",
    "    show(next(iter(loader))[0])"
   ]
  },
  {
   "cell_type": "code",
   "execution_count": 4,
   "id": "6fa83528",
   "metadata": {},
   "outputs": [
    {
     "data": {
      "text/plain": [
       "torch.Size([2, 1, 1, 16, 84])"
      ]
     },
     "execution_count": 4,
     "metadata": {},
     "output_type": "execute_result"
    }
   ],
   "source": [
    "def get_gen_track():\n",
    "    return torch.nn.Sequential(\n",
    "        torch.nn.Linear(4 * 32, 1024),\n",
    "        torch.nn.BatchNorm1d(1024),\n",
    "        torch.nn.ReLU(inplace=True),\n",
    "        torch.nn.Unflatten(unflattened_size=(512, 2, 1), dim=1),\n",
    "        torch.nn.ConvTranspose2d(512,\n",
    "                                 512,\n",
    "                                 kernel_size=(2, 1),\n",
    "                                 stride=(2, 1),\n",
    "                                 padding=0),\n",
    "        torch.nn.BatchNorm2d(512),\n",
    "        torch.nn.ReLU(inplace=True),\n",
    "        torch.nn.ConvTranspose2d(512,\n",
    "                                 256,\n",
    "                                 kernel_size=(2, 1),\n",
    "                                 stride=(2, 1),\n",
    "                                 padding=0),\n",
    "        torch.nn.BatchNorm2d(256),\n",
    "        torch.nn.ReLU(inplace=True),\n",
    "        torch.nn.ConvTranspose2d(256,\n",
    "                                 256,\n",
    "                                 kernel_size=(2, 1),\n",
    "                                 stride=(2, 1),\n",
    "                                 padding=0),\n",
    "        torch.nn.BatchNorm2d(256),\n",
    "        torch.nn.ReLU(inplace=True),\n",
    "        torch.nn.ConvTranspose2d(256,\n",
    "                                 256,\n",
    "                                 kernel_size=(1, 7),\n",
    "                                 stride=(1, 7),\n",
    "                                 padding=0),\n",
    "        torch.nn.BatchNorm2d(256),\n",
    "        torch.nn.ReLU(inplace=True),\n",
    "        torch.nn.ConvTranspose2d(256,\n",
    "                                 1,\n",
    "                                 kernel_size=(1, 12),\n",
    "                                 stride=(1, 12),\n",
    "                                 padding=0),\n",
    "        torch.nn.Unflatten(unflattened_size=(1, 1), dim=1),\n",
    "    )\n",
    "\n",
    "\n",
    "get_gen_track()(torch.randn(2, 128)).shape"
   ]
  },
  {
   "cell_type": "code",
   "execution_count": 5,
   "id": "3529afe3",
   "metadata": {},
   "outputs": [
    {
     "data": {
      "text/plain": [
       "torch.Size([2, 32, 2])"
      ]
     },
     "execution_count": 5,
     "metadata": {},
     "output_type": "execute_result"
    }
   ],
   "source": [
    "def get_gen_block():\n",
    "    return torch.nn.Sequential(\n",
    "        torch.nn.Unflatten(unflattened_size=(32, 1, 1), dim=1),\n",
    "        torch.nn.ConvTranspose2d(32,\n",
    "                                 1024,\n",
    "                                 kernel_size=(2, 1),\n",
    "                                 stride=(1, 1),\n",
    "                                 padding=0), torch.nn.BatchNorm2d(1024),\n",
    "        torch.nn.ReLU(inplace=True),\n",
    "        torch.nn.ConvTranspose2d(1024,\n",
    "                                 32,\n",
    "                                 kernel_size=(2 - 1, 1),\n",
    "                                 stride=(1, 1),\n",
    "                                 padding=0), torch.nn.BatchNorm2d(32),\n",
    "        torch.nn.ReLU(inplace=True), torch.nn.Flatten(start_dim=2))\n",
    "\n",
    "\n",
    "get_gen_block()(torch.randn(2, 32)).shape"
   ]
  },
  {
   "cell_type": "code",
   "execution_count": 6,
   "id": "7f6371b9",
   "metadata": {},
   "outputs": [
    {
     "data": {
      "text/plain": [
       "torch.Size([2, 4, 2, 16, 84])"
      ]
     },
     "execution_count": 6,
     "metadata": {},
     "output_type": "execute_result"
    }
   ],
   "source": [
    "class GEN(torch.nn.Module):\n",
    "\n",
    "    def __init__(self):\n",
    "        super().__init__()\n",
    "\n",
    "        self.gen_chord = get_gen_block()\n",
    "\n",
    "        self.gen_melody = torch.nn.ModuleList(\n",
    "            [get_gen_block() for _ in range(4)])\n",
    "\n",
    "        self.gen_track = torch.nn.ModuleList(\n",
    "            [get_gen_track() for _ in range(4)])\n",
    "\n",
    "    def forward(self, chord, style, melody, groove):\n",
    "        #chord -> [b, 32]\n",
    "        #style -> [b, 32]\n",
    "        #melody -> [b, 4, 32]\n",
    "        #groove -> [b, 4, 32]\n",
    "\n",
    "        #[b, 32] -> [b, 32, 2]\n",
    "        out_chord = self.gen_chord(chord)\n",
    "\n",
    "        out_i = []\n",
    "        for i in range(2):\n",
    "\n",
    "            out_j = []\n",
    "            for j in range(4):\n",
    "\n",
    "                #[b, 32] -> [b, 32, 2] -> [b, 32]\n",
    "                out_melody = self.gen_melody[j](melody[:, j])[:, :, i]\n",
    "\n",
    "                #[b, 32+32+32+32] -> [b, 128]\n",
    "                out = torch.cat(\n",
    "                    [out_chord[:, :, i], style, out_melody, groove[:, j]],\n",
    "                    dim=1)\n",
    "\n",
    "                #[b, 128] -> [b, 1, 1, 16, 84]\n",
    "                out = self.gen_track[j](out)\n",
    "\n",
    "                out_j.append(out)\n",
    "\n",
    "            #[b, 1*4, 1, 16, 84] -> [b, 4, 1, 16, 84]\n",
    "            out_i.append(torch.cat(out_j, dim=1))\n",
    "\n",
    "        #[b, 4, 1*2, 16, 84] -> [b, 4, 2, 16, 84]\n",
    "        out = torch.cat(out_i, dim=2)\n",
    "\n",
    "        return out\n",
    "\n",
    "\n",
    "gen = GEN()\n",
    "\n",
    "gen(torch.randn(2, 32), torch.randn(2, 32), torch.randn(2, 4, 32),\n",
    "    torch.randn(2, 4, 32)).shape"
   ]
  },
  {
   "cell_type": "code",
   "execution_count": 7,
   "id": "c9570ee1",
   "metadata": {},
   "outputs": [
    {
     "data": {
      "text/plain": [
       "tensor([[0.0234],\n",
       "        [0.0236]], grad_fn=<AddmmBackward0>)"
      ]
     },
     "execution_count": 7,
     "metadata": {},
     "output_type": "execute_result"
    }
   ],
   "source": [
    "def get_cls():\n",
    "    return torch.nn.Sequential(\n",
    "        torch.nn.Conv3d(4, 128, (2, 1, 1), (1, 1, 1), padding=0),\n",
    "        torch.nn.LeakyReLU(0.3, inplace=True),\n",
    "        torch.nn.Conv3d(128, 128, (2 - 1, 1, 1), (1, 1, 1), padding=0),\n",
    "        torch.nn.LeakyReLU(0.3, inplace=True),\n",
    "        torch.nn.Conv3d(128, 128, (1, 1, 12), (1, 1, 12), padding=0),\n",
    "        torch.nn.LeakyReLU(0.3, inplace=True),\n",
    "        torch.nn.Conv3d(128, 128, (1, 1, 7), (1, 1, 7), padding=0),\n",
    "        torch.nn.LeakyReLU(0.3, inplace=True),\n",
    "        torch.nn.Conv3d(128, 128, (1, 2, 1), (1, 2, 1), padding=0),\n",
    "        torch.nn.LeakyReLU(0.3, inplace=True),\n",
    "        torch.nn.Conv3d(128, 128, (1, 2, 1), (1, 2, 1), padding=0),\n",
    "        torch.nn.LeakyReLU(0.3, inplace=True),\n",
    "        torch.nn.Conv3d(128, 2 * 128, (1, 4, 1), (1, 2, 1), padding=(0, 1, 0)),\n",
    "        torch.nn.LeakyReLU(0.3, inplace=True),\n",
    "        torch.nn.Conv3d(2 * 128,\n",
    "                        4 * 128, (1, 3, 1), (1, 2, 1),\n",
    "                        padding=(0, 1, 0)),\n",
    "        torch.nn.LeakyReLU(0.3, inplace=True),\n",
    "        torch.nn.Flatten(),\n",
    "        torch.nn.Linear(4 * 128, 1024),\n",
    "        torch.nn.LeakyReLU(0.3, inplace=True),\n",
    "        torch.nn.Linear(1024, 1),\n",
    "    )\n",
    "\n",
    "\n",
    "cls = get_cls()\n",
    "\n",
    "cls(torch.randn(2, 4, 2, 16, 84))"
   ]
  },
  {
   "cell_type": "code",
   "execution_count": 8,
   "id": "minus-uniform",
   "metadata": {},
   "outputs": [
    {
     "data": {
      "text/plain": [
       "'cuda'"
      ]
     },
     "execution_count": 8,
     "metadata": {},
     "output_type": "execute_result"
    }
   ],
   "source": [
    "def set_requires_grad(model, requires_grad):\n",
    "    for param in model.parameters():\n",
    "        param.requires_grad_(requires_grad)\n",
    "\n",
    "def wasserstein(pred, label):\n",
    "    return -(pred * label).mean()\n",
    "\n",
    "\n",
    "optimizer_cls = torch.optim.Adam(cls.parameters(), lr=1e-3, betas=(0.5, 0.9))\n",
    "optimizer_gen = torch.optim.Adam(gen.parameters(), lr=1e-3, betas=(0.5, 0.9))\n",
    "\n",
    "device = 'cuda' if torch.cuda.is_available() else 'cpu'\n",
    "\n",
    "gen.to(device)\n",
    "cls.to(device)\n",
    "\n",
    "device"
   ]
  },
  {
   "cell_type": "code",
   "execution_count": 9,
   "id": "1170a748",
   "metadata": {},
   "outputs": [
    {
     "data": {
      "text/plain": [
       "tensor(0.9996, device='cuda:0', grad_fn=<MeanBackward0>)"
      ]
     },
     "execution_count": 9,
     "metadata": {},
     "output_type": "execute_result"
    }
   ],
   "source": [
    "def get_gradient_penalty(real, fake):\n",
    "    #real -> [64, 4, 2, 16, 84]\n",
    "    #fake -> [64, 4, 2, 16, 84]\n",
    "\n",
    "    r = torch.rand((64, 1, 1, 1, 1), device=device)\n",
    "    r.requires_grad = True\n",
    "\n",
    "    #[64, 4, 2, 16, 84]\n",
    "    merge = r * real + (1 - r) * fake\n",
    "\n",
    "    #[64, 4, 2, 16, 84] -> [64, 1]\n",
    "    pred_merge = cls(merge)\n",
    "\n",
    "    grad = torch.autograd.grad(inputs=merge,\n",
    "                               outputs=pred_merge,\n",
    "                               grad_outputs=torch.ones(64, 1, device=device),\n",
    "                               create_graph=True,\n",
    "                               retain_graph=True)\n",
    "\n",
    "    #[64, 4, 2, 16, 84] -> [64, 10752]\n",
    "    grad = grad[0].reshape(64, -1)\n",
    "\n",
    "    #[64, 10752] -> [64]\n",
    "    grad = grad.norm(p=2, dim=1)\n",
    "\n",
    "    #[64] -> scala\n",
    "    return (1 - grad).pow(2).mean()\n",
    "\n",
    "\n",
    "get_gradient_penalty(torch.randn(64, 4, 2, 16, 84, device=device),\n",
    "                     torch.randn(64, 4, 2, 16, 84, device=device))"
   ]
  },
  {
   "cell_type": "code",
   "execution_count": 10,
   "id": "31ad7ed8",
   "metadata": {},
   "outputs": [
    {
     "data": {
      "text/plain": [
       "9.99548053741455"
      ]
     },
     "execution_count": 10,
     "metadata": {},
     "output_type": "execute_result"
    }
   ],
   "source": [
    "def train_cls():\n",
    "    set_requires_grad(cls, True)\n",
    "    set_requires_grad(gen, False)\n",
    "    \n",
    "    #得到三份数据\n",
    "    real = next(iter(loader)).to(device)\n",
    "\n",
    "    with torch.no_grad():\n",
    "        cord = torch.randn(64, 32, device=device)\n",
    "        style = torch.randn(64, 32, device=device)\n",
    "        melody = torch.randn(64, 4, 32, device=device)\n",
    "        groove = torch.randn(64, 4, 32, device=device)\n",
    "        fake = gen(cord, style, melody, groove)\n",
    "\n",
    "    #分别计算\n",
    "    pred_fake = cls(fake)\n",
    "    pred_real = cls(real)\n",
    "\n",
    "    #求loss,加权求和\n",
    "    loss_fake = wasserstein(pred_fake, -torch.ones(64, 1, device=device))\n",
    "    loss_real = wasserstein(pred_real, torch.ones(64, 1, device=device))\n",
    "    loss_grad = get_gradient_penalty(real, fake)\n",
    "\n",
    "    loss = loss_fake + loss_real + loss_grad * 10\n",
    "\n",
    "    loss.backward()\n",
    "    optimizer_cls.step()\n",
    "    optimizer_cls.zero_grad()\n",
    "\n",
    "    return loss.item()\n",
    "\n",
    "\n",
    "train_cls()"
   ]
  },
  {
   "cell_type": "code",
   "execution_count": 11,
   "id": "414d78b2",
   "metadata": {},
   "outputs": [
    {
     "data": {
      "text/plain": [
       "0.015252873301506042"
      ]
     },
     "execution_count": 11,
     "metadata": {},
     "output_type": "execute_result"
    }
   ],
   "source": [
    "def train_gen():\n",
    "    set_requires_grad(cls, False)\n",
    "    set_requires_grad(gen, True)\n",
    "    \n",
    "    cord = torch.randn(64, 32, device=device)\n",
    "    style = torch.randn(64, 32, device=device)\n",
    "    melody = torch.randn(64, 4, 32, device=device)\n",
    "    groove = torch.randn(64, 4, 32, device=device)\n",
    "\n",
    "    fake = gen(cord, style, melody, groove)\n",
    "    fake_pred = cls(fake)\n",
    "\n",
    "    loss = wasserstein(fake_pred, torch.ones(64, 1, device=device))\n",
    "    loss.backward()\n",
    "    optimizer_gen.step()\n",
    "    optimizer_gen.zero_grad()\n",
    "\n",
    "    return loss.item()\n",
    "\n",
    "\n",
    "train_gen()"
   ]
  },
  {
   "cell_type": "code",
   "execution_count": 12,
   "id": "taken-cover",
   "metadata": {
    "scrolled": false
   },
   "outputs": [
    {
     "name": "stdout",
     "output_type": "stream",
     "text": [
      "0 -88.02761840820312 365.5087890625\n"
     ]
    },
    {
     "data": {
      "text/html": [
       "\n",
       "                <div id=\"midiPlayerDiv9559\"></div>\n",
       "                <link rel=\"stylesheet\" href=\"//cuthbertLab.github.io/music21j/css/m21.css\"\n",
       "                    type=\"text/css\" />\n",
       "                \n",
       "                <script>\n",
       "                require.config({\n",
       "                    paths: {'music21': '//cuthbertLab.github.io/music21j/src/music21'}\n",
       "                });\n",
       "                require(['music21'], function() {\n",
       "                               mp = new music21.miditools.MidiPlayer();\n",
       "                               mp.addPlayer(\"#midiPlayerDiv9559\");\n",
       "                               mp.base64Load(\"data:audio/midi;base64,TVRoZAAAAAYAAQAFBABNVHJrAAAAFAD/UQMN3yMA/1gEBAIYCIgA/y8ATVRyawAAASgA/wMAAOAAQADAAIgAkERaggCARAAAkEVaggCARQAAkCRaggCAJAAAkElaggCASQAAkDpaggCAOgAAkA5aggCADgAAkCRaggCAJAAAkA5aggCADgAAkBhaggCAGAAAkEFaggCAQQAAkDZaggCANgAAkEdaggCARwAAkDZaggCANgAAkBdaggCAFwAAkDZaggCANgAAkBdaggCAFwAAkDpaggCAOgAAkCxaggCALAAAkDpaggCAOgAAkCxaggCALAAAkERaggCARAAAkCJaggCAIgAAkDpaggCAOgAAkCxaggCALAAAkClaggCAKQAAkBFaggCAEQAAkB1aggCAHQAAkBNaggCAEwAAkB1ahACAHQAAkD5aggCAPgAAkA1aggCADQCIAP8vAE1UcmsAAADyAP8DAADgAEAAwACIAJAqWoIAgCoAAJBGWoQAgEYAAJAOWoIAgA4AAJA2WoIAgDYAAJBDWoIAgEMAAJBGWoIAgEYAAJAOWoIAgA4AAJBTWoIAgFMAAJAXWoIAgBcAAJBEWoIAgEQAAJAbWoIAgBsAAJBRWoIAgFEAAJAUWoIAgBQAAJAyWoIAgDIAAJBQWoIAgFAAAJAiWoIAgCIAAJA9WoIAgD0AAJAiWoYAgCIAAJA9WoIAgD0AAJAiWoIAgCIAAJBCWoIAgEIAAJA+WoYAgD4AAJA9WoIAgD0AAJA+WoYAgD4AAJA9WoIAgD0AiAD/LwBNVHJrAAAA8gD/AwAA4ABAAMAAiACQRFqCAIBEAACQQ1qCAIBDAACQRFqCAIBEAACQQ1qEAIBDAACQLFqCAIAsAACQSFqCAIBIAACQQ1qCAIBDAACQF1qCAIAXAACQQFqCAIBAAACQQVqIAIBBAACQQVqEAIBBAACQIlqCAIAiAACQOlqCAIA6AACQIlqEAIAiAACQLFqCAIAsAACQOlqCAIA6AACQIlqCAIAiAACQOlqCAIA6AACQRVqEAIBFAACQRVqCAIBFAACQEVqCAIARAACQRVqCAIBFAACQRVqCAIBFAACQEVqCAIARAACQRVqCAIBFAIgA/y8ATVRyawAAAQ0A/wMAAOAAQADAAIgAkClaggCAKQAAkDlaggCAOQAAkA5aggCADgAAkClaggCAKQAAkBVaggCAFQAAkDpaggCAOgAAkClahACAKQAAkFBaggCAUAAAkCNaggCAIwAAkBhaggCAGAAAkCNaiACAIwAAkBhaggCAGAAAkEJaggCAQgAAkCJaggCAIgAAkD1aggCAPQAAkEJaggCAQgAAkD1aggCAPQAAkCJaggCAIgAAkEJaggCAQgAAkCFaggCAIQAAkDJaggCAMgAAkE1aggCATQAAkFBaggCAUAAAkE1aggCATQAAkDJaggCAMgAAkE1aggCATQAAkFBaggCAUAAAkE1aggCATQCIAP8vAA==\");\n",
       "                        });\n",
       "                </script>"
      ],
      "text/plain": [
       "<IPython.core.display.HTML object>"
      ]
     },
     "metadata": {},
     "output_type": "display_data"
    },
    {
     "name": "stdout",
     "output_type": "stream",
     "text": [
      "2000 -18.66831398010254 4.117001533508301\n"
     ]
    },
    {
     "data": {
      "text/html": [
       "\n",
       "                <div id=\"midiPlayerDiv12014\"></div>\n",
       "                <link rel=\"stylesheet\" href=\"//cuthbertLab.github.io/music21j/css/m21.css\"\n",
       "                    type=\"text/css\" />\n",
       "                \n",
       "                <script>\n",
       "                require.config({\n",
       "                    paths: {'music21': '//cuthbertLab.github.io/music21j/src/music21'}\n",
       "                });\n",
       "                require(['music21'], function() {\n",
       "                               mp = new music21.miditools.MidiPlayer();\n",
       "                               mp.addPlayer(\"#midiPlayerDiv12014\");\n",
       "                               mp.base64Load(\"data:audio/midi;base64,TVRoZAAAAAYAAQAFBABNVHJrAAAAFAD/UQMN3yMA/1gEBAIYCIgA/y8ATVRyawAAAQ0A/wMAAOAAQADAAIgAkENaggCAQwAAkEdaggCARwAAkEBaggCAQAAAkEJaggCAQgAAkElaggCASQAAkEZaggCARgAAkEtaggCASwAAkEdaggCARwAAkD5aggCAPgAAkEFaggCAQQAAkDlaggCAOQAAkEBaggCAQAAAkEVaggCARQAAkD5ahACAPgAAkENaggCAQwAAkEBahACAQAAAkDhaggCAOAAAkDlahACAOQAAkEBaggCAQAAAkD5ahACAPgAAkDhaggCAOAAAkDRaggCANAAAkDBaggCAMAAAkC9aggCALwAAkDhaggCAOAAAkDdaggCANwAAkDZaggCANgAAkCtaggCAKwCIAP8vAE1UcmsAAAEWAP8DAADgAEAAwACIAJBDWoIAgEMAAJBHWoIAgEcAAJBAWoIAgEAAAJBCWoIAgEIAAJBFWoIAgEUAAJBGWoIAgEYAAJBLWoIAgEsAAJBHWoIAgEcAAJA+WoIAgD4AAJBBWoIAgEEAAJA5WoIAgDkAAJBAWoIAgEAAAJBFWoIAgEUAAJBEWoIAgEQAAJA+WoIAgD4AAJBDWoIAgEMAAJA6WoIAgDoAAJBAWoIAgEAAAJA5WoYAgDkAAJA2WoIAgDYAAJA+WoQAgD4AAJAuWoIAgC4AAJA0WoIAgDQAAJAwWoIAgDAAAJAvWoIAgC8AAJAxWoIAgDEAAJA3WoIAgDcAAJA2WoIAgDYAAJArWoIAgCsAiAD/LwBNVHJrAAABHwD/AwAA4ABAAMAAiACQQ1qCAIBDAACQQVqCAIBBAACQQFqCAIBAAACQQlqCAIBCAACQRVqCAIBFAACQRlqCAIBGAACQRVqCAIBFAACQR1qCAIBHAACQQ1qCAIBDAACQQlqCAIBCAACQP1qCAIA/AACQQFqCAIBAAACQQlqEAIBCAACQPlqCAIA+AACQQ1qCAIBDAACQPFqCAIA8AACQOFqCAIA4AACQN1qCAIA3AACQOVqCAIA5AACQQFqEAIBAAACQNlqCAIA2AACQQVqCAIBBAACQLVqCAIAtAACQNFqCAIA0AACQMFqCAIAwAACQL1qCAIAvAACQLVqCAIAtAACQHlqCAIAeAACQNlqCAIA2AACQK1qCAIArAIgA/y8ATVRyawAAAR8A/wMAAOAAQADAAIgAkENaggCAQwAAkEFaggCAQQAAkEBaggCAQAAAkEJaggCAQgAAkEVaggCARQAAkEZaggCARgAAkEVaggCARQAAkEdaggCARwAAkENaggCAQwAAkD9ahACAPwAAkEBaggCAQAAAkD5aggCAPgAAkEJaggCAQgAAkD5aggCAPgAAkENaggCAQwAAkDxaggCAPAAAkDtaggCAOwAAkDdaggCANwAAkDlahACAOQAAkEBaggCAQAAAkDZaggCANgAAkD5aggCAPgAAkC1aggCALQAAkDRaggCANAAAkDBaggCAMAAAkC9aggCALwAAkC1aggCALQAAkDdaggCANwAAkDZaggCANgAAkCtaggCAKwCIAP8vAA==\");\n",
       "                        });\n",
       "                </script>"
      ],
      "text/plain": [
       "<IPython.core.display.HTML object>"
      ]
     },
     "metadata": {},
     "output_type": "display_data"
    },
    {
     "name": "stdout",
     "output_type": "stream",
     "text": [
      "4000 -18.55518341064453 -1.6856918334960938\n"
     ]
    },
    {
     "data": {
      "text/html": [
       "\n",
       "                <div id=\"midiPlayerDiv14508\"></div>\n",
       "                <link rel=\"stylesheet\" href=\"//cuthbertLab.github.io/music21j/css/m21.css\"\n",
       "                    type=\"text/css\" />\n",
       "                \n",
       "                <script>\n",
       "                require.config({\n",
       "                    paths: {'music21': '//cuthbertLab.github.io/music21j/src/music21'}\n",
       "                });\n",
       "                require(['music21'], function() {\n",
       "                               mp = new music21.miditools.MidiPlayer();\n",
       "                               mp.addPlayer(\"#midiPlayerDiv14508\");\n",
       "                               mp.base64Load(\"data:audio/midi;base64,TVRoZAAAAAYAAQAFBABNVHJrAAAAFAD/UQMN3yMA/1gEBAIYCIgA/y8ATVRyawAAAQ0A/wMAAOAAQADAAIgAkENaggCAQwAAkEZaggCARgAAkEhaggCASAAAkEpahgCASgAAkEhaggCASAAAkEFaggCAQQAAkD5aggCAPgAAkEFaggCAQQAAkEVahACARQAAkEJaggCAQgAAkDlaggCAOQAAkENaggCAQwAAkEFaggCAQQAAkDxaggCAPAAAkEBaggCAQAAAkEFaggCAQQAAkDlahACAOQAAkDpaggCAOgAAkDxaggCAPAAAkEFaggCAQQAAkDZaggCANgAAkDdaggCANwAAkDpaggCAOgAAkD5aggCAPgAAkDlaggCAOQAAkDpaggCAOgAAkDxaggCAPAAAkDBaggCAMACIAP8vAE1UcmsAAAEWAP8DAADgAEAAwACIAJBBWoIAgEEAAJBGWoIAgEYAAJBIWoIAgEgAAJBGWoIAgEYAAJBKWoQAgEoAAJBDWoIAgEMAAJBIWoIAgEgAAJA+WoIAgD4AAJBBWoIAgEEAAJBFWoQAgEUAAJBCWoIAgEIAAJBBWoIAgEEAAJBDWoIAgEMAAJBBWoIAgEEAAJA8WoIAgDwAAJBAWoIAgEAAAJBBWoIAgEEAAJA+WoIAgD4AAJA5WoIAgDkAAJA6WoIAgDoAAJA8WoQAgDwAAJA2WoIAgDYAAJA3WoIAgDcAAJA6WoIAgDoAAJA+WoIAgD4AAJA5WoIAgDkAAJA7WoIAgDsAAJA8WoIAgDwAAJA2WoIAgDYAiAD/LwBNVHJrAAABKAD/AwAA4ABAAMAAiACQQ1qCAIBDAACQTFqCAIBMAACQSFqCAIBIAACQSlqCAIBKAACQQ1qCAIBDAACQSlqCAIBKAACQSFqCAIBIAACQRVqCAIBFAACQRFqCAIBEAACQPlqCAIA+AACQOlqCAIA6AACQQFqCAIBAAACQQlqCAIBCAACQQ1qEAIBDAACQQVqCAIBBAACQPlqCAIA+AACQQFqCAIBAAACQQVqCAIBBAACQPFqCAIA8AACQQVqCAIBBAACQOlqCAIA6AACQO1qCAIA7AACQQVqCAIBBAACQOVqCAIA5AACQOFqCAIA4AACQLlqCAIAuAACQO1qCAIA7AACQOVqCAIA5AACQOlqCAIA6AACQPFqCAIA8AACQMVqCAIAxAIgA/y8ATVRyawAAASgA/wMAAOAAQADAAIgAkEFaggCAQQAAkEZaggCARgAAkEhaggCASAAAkEpaggCASgAAkENaggCAQwAAkEFaggCAQQAAkENaggCAQwAAkEVaggCARQAAkERaggCARAAAkD5aggCAPgAAkDpaggCAOgAAkD5ahACAPgAAkERaggCARAAAkENaggCAQwAAkEFaggCAQQAAkD5aggCAPgAAkEBaggCAQAAAkEFaggCAQQAAkD5aggCAPgAAkEFaggCAQQAAkDpaggCAOgAAkDtaggCAOwAAkDxaggCAPAAAkDlaggCAOQAAkDdaggCANwAAkC5aggCALgAAkDJaggCAMgAAkDlaggCAOQAAkDpaggCAOgAAkDBaggCAMAAAkDFaggCAMQCIAP8vAA==\");\n",
       "                        });\n",
       "                </script>"
      ],
      "text/plain": [
       "<IPython.core.display.HTML object>"
      ]
     },
     "metadata": {},
     "output_type": "display_data"
    },
    {
     "name": "stdout",
     "output_type": "stream",
     "text": [
      "6000 -16.17269515991211 -4.4504075050354\n"
     ]
    },
    {
     "data": {
      "text/html": [
       "\n",
       "                <div id=\"midiPlayerDiv17044\"></div>\n",
       "                <link rel=\"stylesheet\" href=\"//cuthbertLab.github.io/music21j/css/m21.css\"\n",
       "                    type=\"text/css\" />\n",
       "                \n",
       "                <script>\n",
       "                require.config({\n",
       "                    paths: {'music21': '//cuthbertLab.github.io/music21j/src/music21'}\n",
       "                });\n",
       "                require(['music21'], function() {\n",
       "                               mp = new music21.miditools.MidiPlayer();\n",
       "                               mp.addPlayer(\"#midiPlayerDiv17044\");\n",
       "                               mp.base64Load(\"data:audio/midi;base64,TVRoZAAAAAYAAQAFBABNVHJrAAAAFAD/UQMN3yMA/1gEBAIYCIgA/y8ATVRyawAAASgA/wMAAOAAQADAAIgAkD5aggCAPgAAkE1aggCATQAAkEBaggCAQAAAkEFaggCAQQAAkENaggCAQwAAkEVaggCARQAAkEdaggCARwAAkEZaggCARgAAkDpaggCAOgAAkD5aggCAPgAAkD1aggCAPQAAkDlaggCAOQAAkD5aggCAPgAAkDlaggCAOQAAkDpaggCAOgAAkD1aggCAPQAAkDtaggCAOwAAkDlaggCAOQAAkDxaggCAPAAAkDlaggCAOQAAkDdaggCANwAAkDlaggCAOQAAkDtaggCAOwAAkDlaggCAOQAAkDJaggCAMgAAkC5aggCALgAAkDJaggCAMgAAkDBahACAMAAAkClaggCAKQAAkD5aggCAPgAAkCZaggCAJgCIAP8vAE1UcmsAAAEWAP8DAADgAEAAwACIAJA+WoIAgD4AAJBGWoIAgEYAAJBAWoIAgEAAAJBBWoIAgEEAAJBLWoIAgEsAAJBIWoIAgEgAAJBNWoIAgE0AAJBBWoIAgEEAAJA6WoIAgDoAAJA+WoQAgD4AAJA5WoIAgDkAAJA+WoIAgD4AAJA5WoIAgDkAAJA6WoIAgDoAAJA7WoQAgDsAAJA3WoIAgDcAAJA8WoIAgDwAAJA5WoIAgDkAAJA3WoIAgDcAAJA6WoIAgDoAAJA7WoIAgDsAAJA6WoIAgDoAAJA1WoIAgDUAAJAuWoIAgC4AAJAyWoIAgDIAAJAwWoQAgDAAAJAoWoIAgCgAAJA+WoIAgD4AAJA9WoIAgD0AiAD/LwBNVHJrAAABDQD/AwAA4ABAAMAAiACQSFqCAIBIAACQRFqCAIBEAACQQFqCAIBAAACQQVqCAIBBAACQQ1qCAIBDAACQQVqCAIBBAACQRFqCAIBEAACQQVqCAIBBAACQPlqCAIA+AACQSVqCAIBJAACQPVqCAIA9AACQOVqCAIA5AACQQFqCAIBAAACQOVqCAIA5AACQQVqCAIBBAACQO1qEAIA7AACQN1qCAIA3AACQPFqCAIA8AACQNVqCAIA1AACQPFqCAIA8AACQN1qCAIA3AACQQ1qCAIBDAACQOVqCAIA5AACQNFqEAIA0AACQMVqCAIAxAACQMFqEAIAwAACQNFqEAIA0AACQOFqCAIA4AIgA/y8ATVRyawAAARYA/wMAAOAAQADAAIgAkEtaggCASwAAkERaggCARAAAkEBaggCAQAAAkEFaggCAQQAAkEBaggCAQAAAkEhaggCASAAAkERaggCARAAAkEFaggCAQQAAkD5aggCAPgAAkDtaggCAOwAAkD1aggCAPQAAkDlaggCAOQAAkEBaggCAQAAAkDlaggCAOQAAkEFaggCAQQAAkDtaggCAOwAAkDpaggCAOgAAkDdaggCANwAAkDxaggCAPAAAkDVaggCANQAAkDxaggCAPAAAkDpaggCAOgAAkDVaggCANQAAkDlaggCAOQAAkDRahACANAAAkDFaggCAMQAAkDBahACAMAAAkDRahACANAAAkC1aggCALQCIAP8vAA==\");\n",
       "                        });\n",
       "                </script>"
      ],
      "text/plain": [
       "<IPython.core.display.HTML object>"
      ]
     },
     "metadata": {},
     "output_type": "display_data"
    },
    {
     "name": "stdout",
     "output_type": "stream",
     "text": [
      "8000 -12.522842407226562 -3.564983367919922\n"
     ]
    },
    {
     "data": {
      "text/html": [
       "\n",
       "                <div id=\"midiPlayerDiv19504\"></div>\n",
       "                <link rel=\"stylesheet\" href=\"//cuthbertLab.github.io/music21j/css/m21.css\"\n",
       "                    type=\"text/css\" />\n",
       "                \n",
       "                <script>\n",
       "                require.config({\n",
       "                    paths: {'music21': '//cuthbertLab.github.io/music21j/src/music21'}\n",
       "                });\n",
       "                require(['music21'], function() {\n",
       "                               mp = new music21.miditools.MidiPlayer();\n",
       "                               mp.addPlayer(\"#midiPlayerDiv19504\");\n",
       "                               mp.base64Load(\"data:audio/midi;base64,TVRoZAAAAAYAAQAFBABNVHJrAAAAFAD/UQMN3yMA/1gEBAIYCIgA/y8ATVRyawAAAR8A/wMAAOAAQADAAIgAkE1aggCATQAAkElaggCASQAAkEtaggCASwAAkEdaggCARwAAkExaggCATAAAkElaggCASQAAkEdaggCARwAAkElaggCASQAAkERaggCARAAAkDpaggCAOgAAkEBaggCAQAAAkENaggCAQwAAkERaggCARAAAkEBaggCAQAAAkD9aggCAPwAAkEBaggCAQAAAkDdaggCANwAAkDZaggCANgAAkDtaggCAOwAAkD1aggCAPQAAkDlahACAOQAAkDtaggCAOwAAkDhaggCAOAAAkC1aggCALQAAkD5aggCAPgAAkChaggCAKAAAkDRahACANAAAkClaggCAKQAAkElaggCASQAAkChaggCAKACIAP8vAE1UcmsAAAEfAP8DAADgAEAAwACIAJBNWoIAgE0AAJBJWoIAgEkAAJBOWoIAgE4AAJBHWoIAgEcAAJBMWoIAgEwAAJBJWoIAgEkAAJBHWoIAgEcAAJBJWoIAgEkAAJBEWoIAgEQAAJA6WoIAgDoAAJBAWoIAgEAAAJBDWoIAgEMAAJBEWoIAgEQAAJBAWoIAgEAAAJA/WoIAgD8AAJBAWoIAgEAAAJA3WoIAgDcAAJA2WoIAgDYAAJA7WoIAgDsAAJA9WoIAgD0AAJA5WoQAgDkAAJA7WoIAgDsAAJA4WoIAgDgAAJA0WoIAgDQAAJAoWoIAgCgAAJApWoIAgCkAAJA0WoQAgDQAAJApWoIAgCkAAJBJWoIAgEkAAJAoWoIAgCgAiAD/LwBNVHJrAAAA+wD/AwAA4ABAAMAAiACQTFqCAIBMAACQQVqCAIBBAACQR1qEAIBHAACQTFqCAIBMAACQSFqCAIBIAACQR1qCAIBHAACQQVqCAIBBAACQRFqEAIBEAACQP1qCAIA/AACQPVqCAIA9AACQRFqCAIBEAACQPlqCAIA+AACQPVqCAIA9AACQQFqEAIBAAACQNFqCAIA0AACQO1qEAIA7AACQQFqCAIBAAACQPVqCAIA9AACQO1qEAIA7AACQLVqCAIAtAACQMlqCAIAyAACQQFqCAIBAAACQMVqCAIAxAACQOFqCAIA4AACQQFqCAIBAAACQL1qEAIAvAIgA/y8ATVRyawAAAQQA/wMAAOAAQADAAIgAkERaggCARAAAkE5aggCATgAAkEdahACARwAAkExaggCATAAAkElaggCASQAAkEdaggCARwAAkEFaggCAQQAAkDlaggCAOQAAkERaggCARAAAkD9aggCAPwAAkD1aggCAPQAAkERaggCARAAAkD5aggCAPgAAkD1aggCAPQAAkEBahACAQAAAkDVaggCANQAAkDtahACAOwAAkEBaggCAQAAAkD1aggCAPQAAkDtahACAOwAAkC1aggCALQAAkEBahACAQAAAkDNaggCAMwAAkDhaggCAOAAAkEBaggCAQAAAkC9aggCALwAAkDNaggCAMwCIAP8vAA==\");\n",
       "                        });\n",
       "                </script>"
      ],
      "text/plain": [
       "<IPython.core.display.HTML object>"
      ]
     },
     "metadata": {},
     "output_type": "display_data"
    },
    {
     "name": "stdout",
     "output_type": "stream",
     "text": [
      "10000 -13.41166877746582 -3.798163890838623\n"
     ]
    },
    {
     "data": {
      "text/html": [
       "\n",
       "                <div id=\"midiPlayerDiv21854\"></div>\n",
       "                <link rel=\"stylesheet\" href=\"//cuthbertLab.github.io/music21j/css/m21.css\"\n",
       "                    type=\"text/css\" />\n",
       "                \n",
       "                <script>\n",
       "                require.config({\n",
       "                    paths: {'music21': '//cuthbertLab.github.io/music21j/src/music21'}\n",
       "                });\n",
       "                require(['music21'], function() {\n",
       "                               mp = new music21.miditools.MidiPlayer();\n",
       "                               mp.addPlayer(\"#midiPlayerDiv21854\");\n",
       "                               mp.base64Load(\"data:audio/midi;base64,TVRoZAAAAAYAAQAFBABNVHJrAAAAFAD/UQMN3yMA/1gEBAIYCIgA/y8ATVRyawAAAR8A/wMAAOAAQADAAIgAkEVaggCARQAAkE1aggCATQAAkEFahACAQQAAkEVaggCARQAAkEZaggCARgAAkEFaggCAQQAAkENaggCAQwAAkEFaggCAQQAAkD9aggCAPwAAkD1aggCAPQAAkD5aggCAPgAAkD1aggCAPQAAkDlaggCAOQAAkEVahACARQAAkDVaggCANQAAkDpaggCAOgAAkDxaggCAPAAAkDdaggCANwAAkD5aggCAPgAAkDpaggCAOgAAkEFaggCAQQAAkENaggCAQwAAkDJaggCAMgAAkCtaggCAKwAAkDVaggCANQAAkBVaggCAFQAAkDJaggCAMgAAkDdaggCANwAAkDlaggCAOQAAkDFaggCAMQCIAP8vAE1UcmsAAAEWAP8DAADgAEAAwACIAJBFWoIAgEUAAJBBWoQAgEEAAJBIWoIAgEgAAJBFWoIAgEUAAJBGWoIAgEYAAJBBWoIAgEEAAJBDWoIAgEMAAJA5WoQAgDkAAJA9WoIAgD0AAJA+WoIAgD4AAJA9WoIAgD0AAJA5WoIAgDkAAJA+WoQAgD4AAJA1WoIAgDUAAJA6WoIAgDoAAJA8WoIAgDwAAJA3WoIAgDcAAJA+WoIAgD4AAJA6WoIAgDoAAJBBWoIAgEEAAJA/WoIAgD8AAJAyWoIAgDIAAJArWoIAgCsAAJAyWoIAgDIAAJAuWoIAgC4AAJAyWoIAgDIAAJA3WoIAgDcAAJA5WoIAgDkAAJBAWoIAgEAAiAD/LwBNVHJrAAAA8gD/AwAA4ABAAMAAiACQRlqCAIBGAACQRVqCAIBFAACQQ1qEAIBDAACQRVqCAIBFAACQRlqCAIBGAACQQVqCAIBBAACQTFqCAIBMAACQOVqCAIA5AACQQFqCAIBAAACQPlqCAIA+AACQPFqCAIA8AACQOVqCAIA5AACQQ1qCAIBDAACQP1qCAIA/AACQRVqCAIBFAACQOVqIAIA5AACQPlqEAIA+AACQQFqCAIBAAACQOVqCAIA5AACQLVqEAIAtAACQQFqCAIBAAACQLlqCAIAuAACQKVqCAIApAACQN1qEAIA3AACQOFqCAIA4AIgA/y8ATVRyawAAAQQA/wMAAOAAQADAAIgAkElaggCASQAAkEFaggCAQQAAkElaggCASQAAkENaggCAQwAAkEVaggCARQAAkEZaggCARgAAkEFaggCAQQAAkExaggCATAAAkDlaggCAOQAAkD5ahACAPgAAkDxaggCAPAAAkDlaggCAOQAAkEVaggCARQAAkD9aggCAPwAAkD5aggCAPgAAkDxaggCAPAAAkDlahgCAOQAAkD5ahACAPgAAkDVaggCANQAAkD9aggCAPwAAkC1aggCALQAAkC5aggCALgAAkEBaggCAQAAAkC5aggCALgAAkClaggCAKQAAkDdahACANwAAkC5aggCALgCIAP8vAA==\");\n",
       "                        });\n",
       "                </script>"
      ],
      "text/plain": [
       "<IPython.core.display.HTML object>"
      ]
     },
     "metadata": {},
     "output_type": "display_data"
    },
    {
     "name": "stdout",
     "output_type": "stream",
     "text": [
      "12000 -9.745172500610352 -6.956740379333496\n"
     ]
    },
    {
     "data": {
      "text/html": [
       "\n",
       "                <div id=\"midiPlayerDiv24346\"></div>\n",
       "                <link rel=\"stylesheet\" href=\"//cuthbertLab.github.io/music21j/css/m21.css\"\n",
       "                    type=\"text/css\" />\n",
       "                \n",
       "                <script>\n",
       "                require.config({\n",
       "                    paths: {'music21': '//cuthbertLab.github.io/music21j/src/music21'}\n",
       "                });\n",
       "                require(['music21'], function() {\n",
       "                               mp = new music21.miditools.MidiPlayer();\n",
       "                               mp.addPlayer(\"#midiPlayerDiv24346\");\n",
       "                               mp.base64Load(\"data:audio/midi;base64,TVRoZAAAAAYAAQAFBABNVHJrAAAAFAD/UQMN3yMA/1gEBAIYCIgA/y8ATVRyawAAASgA/wMAAOAAQADAAIgAkEFaggCAQQAAkEhaggCASAAAkE5aggCATgAAkEZahACARgAAkEhaggCASAAAkE5aggCATgAAkEVaggCARQAAkD9aggCAPwAAkDlaggCAOQAAkDtaggCAOwAAkDxaggCAPAAAkD5aggCAPgAAkDlaggCAOQAAkEFaggCAQQAAkD5aggCAPgAAkDlaggCAOQAAkDpaggCAOgAAkDlaggCAOQAAkDdaggCANwAAkDlaggCAOQAAkDpaggCAOgAAkDtaggCAOwAAkDlaggCAOQAAkC9aggCALwAAkC5aggCALgAAkDBaggCAMAAAkC5aggCALgAAkCtaggCAKwAAkDBaggCAMAAAkC9aggCALwAAkDJaggCAMgCIAP8vAE1UcmsAAAEWAP8DAADgAEAAwACIAJBBWoQAgEEAAJBFWoIAgEUAAJBGWoQAgEYAAJBIWoIAgEgAAJBOWoIAgE4AAJBBWoIAgEEAAJA/WoIAgD8AAJA5WoIAgDkAAJA7WoQAgDsAAJA+WoIAgD4AAJA5WoIAgDkAAJBBWoIAgEEAAJA+WoIAgD4AAJA5WoIAgDkAAJA6WoIAgDoAAJA8WoIAgDwAAJA3WoIAgDcAAJA5WoIAgDkAAJA6WoIAgDoAAJA7WoIAgDsAAJA5WoIAgDkAAJAvWoIAgC8AAJAuWoIAgC4AAJAwWoIAgDAAAJAuWoIAgC4AAJArWoIAgCsAAJAwWoIAgDAAAJA1WoIAgDUAAJAyWoIAgDIAiAD/LwBNVHJrAAABFgD/AwAA4ABAAMAAiACQSVqCAIBJAACQSFqCAIBIAACQRVqCAIBFAACQQ1qCAIBDAACQRlqCAIBGAACQQ1qCAIBDAACQS1qCAIBLAACQQVqCAIBBAACQPFqCAIA8AACQOVqCAIA5AACQPlqCAIA+AACQQFqCAIBAAACQPlqCAIA+AACQOVqCAIA5AACQQ1qCAIBDAACQRlqCAIBGAACQOVqCAIA5AACQPFqEAIA8AACQN1qCAIA3AACQOlqEAIA6AACQPFqCAIA8AACQOVqCAIA5AACQNVqCAIA1AACQLVqCAIAtAACQMFqCAIAwAACQL1qCAIAvAACQMFqEAIAwAACQNVqCAIA1AACQLlqCAIAuAIgA/y8ATVRyawAAAR8A/wMAAOAAQADAAIgAkElaggCASQAAkEFaggCAQQAAkEVaggCARQAAkENaggCAQwAAkEVaggCARQAAkENaggCAQwAAkE5aggCATgAAkEFaggCAQQAAkDxaggCAPAAAkDlaggCAOQAAkD5aggCAPgAAkEBaggCAQAAAkD5aggCAPgAAkDlaggCAOQAAkENaggCAQwAAkEZaggCARgAAkDpaggCAOgAAkDxahACAPAAAkDdaggCANwAAkDpaggCAOgAAkDlaggCAOQAAkDxaggCAPAAAkDlaggCAOQAAkDVaggCANQAAkElaggCASQAAkDBaggCAMAAAkC5aggCALgAAkDBahACAMAAAkCtaggCAKwAAkC1aggCALQCIAP8vAA==\");\n",
       "                        });\n",
       "                </script>"
      ],
      "text/plain": [
       "<IPython.core.display.HTML object>"
      ]
     },
     "metadata": {},
     "output_type": "display_data"
    },
    {
     "name": "stdout",
     "output_type": "stream",
     "text": [
      "14000 -8.481831550598145 -3.7079086303710938\n"
     ]
    },
    {
     "data": {
      "text/html": [
       "\n",
       "                <div id=\"midiPlayerDiv26768\"></div>\n",
       "                <link rel=\"stylesheet\" href=\"//cuthbertLab.github.io/music21j/css/m21.css\"\n",
       "                    type=\"text/css\" />\n",
       "                \n",
       "                <script>\n",
       "                require.config({\n",
       "                    paths: {'music21': '//cuthbertLab.github.io/music21j/src/music21'}\n",
       "                });\n",
       "                require(['music21'], function() {\n",
       "                               mp = new music21.miditools.MidiPlayer();\n",
       "                               mp.addPlayer(\"#midiPlayerDiv26768\");\n",
       "                               mp.base64Load(\"data:audio/midi;base64,TVRoZAAAAAYAAQAFBABNVHJrAAAAFAD/UQMN3yMA/1gEBAIYCIgA/y8ATVRyawAAARYA/wMAAOAAQADAAIgAkEhaggCASAAAkEdaggCARwAAkEVaggCARQAAkEZaggCARgAAkEhaggCASAAAkEpaggCASgAAkEVaggCARQAAkENaggCAQwAAkD5aggCAPgAAkCNaggCAIwAAkEBaggCAQAAAkDpaggCAOgAAkDlaggCAOQAAkDpaggCAOgAAkD5aggCAPgAAkDpaggCAOgAAkDtahACAOwAAkDlahACAOQAAkDtahACAOwAAkEhaggCASAAAkDdaggCANwAAkDBaggCAMAAAkA9aggCADwAAkClaggCAKQAAkDRaggCANAAAkDBaggCAMAAAkA9aggCADwAAkDJaggCAMgAAkDNaggCAMwCIAP8vAE1UcmsAAAEWAP8DAADgAEAAwACIAJBIWoIAgEgAAJBHWoIAgEcAAJBLWoIAgEsAAJBGWoIAgEYAAJBIWoIAgEgAAJBHWoQAgEcAAJBDWoIAgEMAAJA+WoIAgD4AAJBJWoIAgEkAAJA7WoIAgDsAAJA6WoIAgDoAAJA5WoIAgDkAAJA6WoIAgDoAAJA+WoIAgD4AAJA6WoIAgDoAAJA7WoQAgDsAAJA5WoQAgDkAAJA7WoIAgDsAAJA5WoIAgDkAAJAsWoIAgCwAAJBAWoIAgEAAAJA0WoIAgDQAAJBJWoIAgEkAAJApWoIAgCkAAJA0WoIAgDQAAJAwWoIAgDAAAJAPWoIAgA8AAJAyWoIAgDIAAJAzWoIAgDMAiAD/LwBNVHJrAAABDQD/AwAA4ABAAMAAiACQSFqCAIBIAACQR1qCAIBHAACQRVqCAIBFAACQQVqCAIBBAACQTVqCAIBNAACQRVqCAIBFAACQR1qCAIBHAACQQ1qCAIBDAACQPlqCAIA+AACQRFqCAIBEAACQP1qGAIA/AACQOlqCAIA6AACQPlqCAIA+AACQRFqCAIBEAACQO1qEAIA7AACQOVqCAIA5AACQN1qCAIA3AACQQFqCAIBAAACQOVqCAIA5AACQO1qCAIA7AACQPlqCAIA+AACQNFqCAIA0AACQL1qCAIAvAACQLVqCAIAtAACQK1qCAIArAACQLVqCAIAtAACQIFqCAIAgAACQK1qEAIArAIgA/y8ATVRyawAAARYA/wMAAOAAQADAAIgAkEVaggCARQAAkEtaggCASwAAkEVaggCARQAAkEZaggCARgAAkE1aggCATQAAkEVaggCARQAAkEdaggCARwAAkENaggCAQwAAkD5aggCAPgAAkERaggCARAAAkD9ahgCAPwAAkDpaggCAOgAAkD5aggCAPgAAkERaggCARAAAkD5aggCAPgAAkDtaggCAOwAAkDlaggCAOQAAkDdaggCANwAAkD9aggCAPwAAkDlaggCAOQAAkDtaggCAOwAAkD5aggCAPgAAkDNaggCAMwAAkElaggCASQAAkC5aggCALgAAkC9aggCALwAAkC1aggCALQAAkElaggCASQAAkCtahACAKwCIAP8vAA==\");\n",
       "                        });\n",
       "                </script>"
      ],
      "text/plain": [
       "<IPython.core.display.HTML object>"
      ]
     },
     "metadata": {},
     "output_type": "display_data"
    },
    {
     "name": "stdout",
     "output_type": "stream",
     "text": [
      "16000 -8.238203048706055 -1.697916030883789\n"
     ]
    },
    {
     "data": {
      "text/html": [
       "\n",
       "                <div id=\"midiPlayerDiv29175\"></div>\n",
       "                <link rel=\"stylesheet\" href=\"//cuthbertLab.github.io/music21j/css/m21.css\"\n",
       "                    type=\"text/css\" />\n",
       "                \n",
       "                <script>\n",
       "                require.config({\n",
       "                    paths: {'music21': '//cuthbertLab.github.io/music21j/src/music21'}\n",
       "                });\n",
       "                require(['music21'], function() {\n",
       "                               mp = new music21.miditools.MidiPlayer();\n",
       "                               mp.addPlayer(\"#midiPlayerDiv29175\");\n",
       "                               mp.base64Load(\"data:audio/midi;base64,TVRoZAAAAAYAAQAFBABNVHJrAAAAFAD/UQMN3yMA/1gEBAIYCIgA/y8ATVRyawAAASgA/wMAAOAAQADAAIgAkExaggCATAAAkElaggCASQAAkEhaggCASAAAkEdaggCARwAAkEZaggCARgAAkEpaggCASgAAkEhaggCASAAAkEFaggCAQQAAkERaggCARAAAkEBaggCAQAAAkEJaggCAQgAAkD1aggCAPQAAkEJaggCAQgAAkEBaggCAQAAAkENaggCAQwAAkEdaggCARwAAkEFaggCAQQAAkERaggCARAAAkDtaggCAOwAAkD1aggCAPQAAkDdaggCANwAAkDtaggCAOwAAkDxahACAPAAAkDtaggCAOwAAkDRaggCANAAAkA9aggCADwAAkElaggCASQAAkDRaggCANAAAkCBaggCAIAAAkC1aggCALQAAkDJaggCAMgCIAP8vAE1UcmsAAAENAP8DAADgAEAAwACIAJBMWoIAgEwAAJBJWoIAgEkAAJBFWoIAgEUAAJBHWoIAgEcAAJBIWoIAgEgAAJBKWoIAgEoAAJBIWoIAgEgAAJBHWoIAgEcAAJBEWoIAgEQAAJBAWoQAgEAAAJA9WoIAgD0AAJBCWoIAgEIAAJA+WoIAgD4AAJBHWoIAgEcAAJA6WoIAgDoAAJBBWoIAgEEAAJA5WoIAgDkAAJA7WoIAgDsAAJA3WoQAgDcAAJA7WoIAgDsAAJA8WoIAgDwAAJBMWoIAgEwAAJA7WoIAgDsAAJA0WoIAgDQAAJBJWoIAgEkAAJAvWoIAgC8AAJA0WoQAgDQAAJAyWoQAgDIAiAD/LwBNVHJrAAABHwD/AwAA4ABAAMAAiACQQ1qCAIBDAACQQlqCAIBCAACQR1qEAIBHAACQSFqCAIBIAACQSlqCAIBKAACQQ1qCAIBDAACQR1qCAIBHAACQRFqCAIBEAACQO1qCAIA7AACQOlqCAIA6AACQPlqCAIA+AACQQlqCAIBCAACQQFqCAIBAAACQQVqCAIBBAACQRFqCAIBEAACQO1qCAIA7AACQQFqCAIBAAACQO1qCAIA7AACQQFqCAIBAAACQOVqCAIA5AACQO1qCAIA7AACQOVqCAIA5AACQOFqCAIA4AACQD1qCAIAPAACQN1qCAIA3AACQL1qCAIAvAACQD1qCAIAPAACQNFqEAIA0AACQLVqCAIAtAACQMlqCAIAyAIgA/y8ATVRyawAAAQQA/wMAAOAAQADAAIgAkENaggCAQwAAkEZaggCARgAAkEdahACARwAAkEhaggCASAAAkEpaggCASgAAkENaggCAQwAAkEdaggCARwAAkERaggCARAAAkDtaggCAOwAAkDpaggCAOgAAkEBahgCAQAAAkDpaggCAOgAAkERaggCARAAAkDtaggCAOwAAkD5aggCAPgAAkDtaggCAOwAAkEBaggCAQAAAkDlaggCAOQAAkDtaggCAOwAAkDlaggCAOQAAkDZaggCANgAAkDBaggCAMAAAkDdaggCANwAAkC9ahACALwAAkDRahACANAAAkC1aggCALQAAkDJaggCAMgCIAP8vAA==\");\n",
       "                        });\n",
       "                </script>"
      ],
      "text/plain": [
       "<IPython.core.display.HTML object>"
      ]
     },
     "metadata": {},
     "output_type": "display_data"
    },
    {
     "name": "stdout",
     "output_type": "stream",
     "text": [
      "18000 -7.125642776489258 -2.4775843620300293\n"
     ]
    },
    {
     "data": {
      "text/html": [
       "\n",
       "                <div id=\"midiPlayerDiv31842\"></div>\n",
       "                <link rel=\"stylesheet\" href=\"//cuthbertLab.github.io/music21j/css/m21.css\"\n",
       "                    type=\"text/css\" />\n",
       "                \n",
       "                <script>\n",
       "                require.config({\n",
       "                    paths: {'music21': '//cuthbertLab.github.io/music21j/src/music21'}\n",
       "                });\n",
       "                require(['music21'], function() {\n",
       "                               mp = new music21.miditools.MidiPlayer();\n",
       "                               mp.addPlayer(\"#midiPlayerDiv31842\");\n",
       "                               mp.base64Load(\"data:audio/midi;base64,TVRoZAAAAAYAAQAFBABNVHJrAAAAFAD/UQMN3yMA/1gEBAIYCIgA/y8ATVRyawAAATEA/wMAAOAAQADAAIgAkEBaggCAQAAAkElaggCASQAAkEVaggCARQAAkEdaggCARwAAkEhaggCASAAAkElaggCASQAAkEJaggCAQgAAkEdaggCARwAAkBNaggCAEwAAkDpaggCAOgAAkBRaggCAFAAAkDlaggCAOQAAkBRaggCAFAAAkERaggCARAAAkElaggCASQAAkEhaggCASAAAkDtaggCAOwAAkCxaggCALAAAkDtaggCAOwAAkDlaggCAOQAAkEBaggCAQAAAkDlaggCAOQAAkDtaggCAOwAAkDlaggCAOQAAkC9aggCALwAAkDBaggCAMAAAkA9aggCADwAAkDJaggCAMgAAkA9aggCADwAAkElaggCASQAAkC9aggCALwAAkDlaggCAOQCIAP8vAE1UcmsAAAEfAP8DAADgAEAAwACIAJBAWoIAgEAAAJBJWoIAgEkAAJBFWoIAgEUAAJBHWoIAgEcAAJBJWoQAgEkAAJBCWoIAgEIAAJBHWoIAgEcAAJBEWoQAgEQAAJA/WoIAgD8AAJA5WoIAgDkAAJA+WoIAgD4AAJBEWoIAgEQAAJA7WoIAgDsAAJA+WoIAgD4AAJA7WoIAgDsAAJAsWoIAgCwAAJA7WoIAgDsAAJA5WoIAgDkAAJBAWoIAgEAAAJA5WoIAgDkAAJA7WoIAgDsAAJA5WoIAgDkAAJA0WoIAgDQAAJAoWoIAgCgAAJA0WoIAgDQAAJAyWoIAgDIAAJA0WoIAgDQAAJAgWoIAgCAAAJAvWoIAgC8AAJA9WoIAgD0AiAD/LwBNVHJrAAABKAD/AwAA4ABAAMAAiACQTFqCAIBMAACQSVqCAIBJAACQRVqCAIBFAACQR1qCAIBHAACQTFqCAIBMAACQRVqCAIBFAACQSlqCAIBKAACQR1qCAIBHAACQRlqCAIBGAACQOFqCAIA4AACQQFqCAIBAAACQOVqCAIA5AACQOlqCAIA6AACQQ1qCAIBDAACQPlqCAIA+AACQO1qEAIA7AACQPVqCAIA9AACQO1qCAIA7AACQN1qCAIA3AACQOVqCAIA5AACQQFqCAIBAAACQO1qCAIA7AACQOVqCAIA5AACQNFqCAIA0AACQL1qCAIAvAACQPVqCAIA9AACQLVqCAIAtAACQMlqCAIAyAACQLVqCAIAtAACQL1qCAIAvAACQNFqCAIA0AIgA/y8ATVRyawAAASgA/wMAAOAAQADAAIgAkEBaggCAQAAAkElaggCASQAAkERaggCARAAAkEdaggCARwAAkExaggCATAAAkEdaggCARwAAkEpaggCASgAAkEdaggCARwAAkD5aggCAPgAAkD1aggCAPQAAkEBaggCAQAAAkDlaggCAOQAAkDpaggCAOgAAkEBaggCAQAAAkD5aggCAPgAAkDtahACAOwAAkD1aggCAPQAAkDtaggCAOwAAkDdaggCANwAAkDlaggCAOQAAkEBaggCAQAAAkDtaggCAOwAAkDdaggCANwAAkDRaggCANAAAkExaggCATAAAkDhaggCAOAAAkC1aggCALQAAkDRaggCANAAAkC1aggCALQAAkC9aggCALwAAkDRaggCANACIAP8vAA==\");\n",
       "                        });\n",
       "                </script>"
      ],
      "text/plain": [
       "<IPython.core.display.HTML object>"
      ]
     },
     "metadata": {},
     "output_type": "display_data"
    }
   ],
   "source": [
    "def train():\n",
    "    for epoch in range(2_0000):\n",
    "        for _ in range(5):\n",
    "            loss_cls = train_cls()\n",
    "\n",
    "        loss_gen = train_gen()\n",
    "\n",
    "        if epoch % 2000 == 0:\n",
    "            print(epoch, loss_cls, loss_gen)\n",
    "\n",
    "            #这里的b必须要大于1,否则BatchNorm层的计算会出错\n",
    "            chord = torch.rand(2, 32, device=device)\n",
    "            style = torch.rand(2, 32, device=device)\n",
    "            melody = torch.rand(2, 4, 32, device=device)\n",
    "            groove = torch.rand(2, 4, 32, device=device)\n",
    "\n",
    "            #[2, 4, 2, 16, 84]\n",
    "            pred = gen(chord, style, melody, groove)\n",
    "            show(pred[0])\n",
    "\n",
    "\n",
    "local_training = True\n",
    "\n",
    "if local_training:\n",
    "    train()"
   ]
  },
  {
   "cell_type": "code",
   "execution_count": 13,
   "id": "973e9776",
   "metadata": {},
   "outputs": [
    {
     "data": {
      "application/vnd.jupyter.widget-view+json": {
       "model_id": "3ae555b3113b4bd991eab096b47251ba",
       "version_major": 2,
       "version_minor": 0
      },
      "text/plain": [
       "pytorch_model.bin:   0%|          | 0.00/32.3M [00:00<?, ?B/s]"
      ]
     },
     "metadata": {},
     "output_type": "display_data"
    },
    {
     "data": {
      "application/vnd.jupyter.widget-view+json": {
       "model_id": "4c8255497cfe4e4d90168b4cbd79638b",
       "version_major": 2,
       "version_minor": 0
      },
      "text/plain": [
       "Upload 1 LFS files:   0%|          | 0/1 [00:00<?, ?it/s]"
      ]
     },
     "metadata": {},
     "output_type": "display_data"
    }
   ],
   "source": [
    "from transformers import PreTrainedModel, PretrainedConfig\n",
    "\n",
    "\n",
    "class Model(PreTrainedModel):\n",
    "    config_class = PretrainedConfig\n",
    "\n",
    "    def __init__(self, config):\n",
    "        super().__init__(config)\n",
    "        self.cls = cls.to('cpu')\n",
    "        self.gen = gen.to('cpu')\n",
    "\n",
    "\n",
    "if local_training:\n",
    "    #保存训练好的模型到hub\n",
    "    Model(PretrainedConfig()).push_to_hub(\n",
    "        repo_id='lansinuote/gen.7.musegan',\n",
    "        use_auth_token=open('/root/hub_token.txt').read().strip())"
   ]
  },
  {
   "cell_type": "code",
   "execution_count": 14,
   "id": "e933c6de",
   "metadata": {},
   "outputs": [
    {
     "data": {
      "application/vnd.jupyter.widget-view+json": {
       "model_id": "c34bf31ec95d4307ad8a37f98d0c5272",
       "version_major": 2,
       "version_minor": 0
      },
      "text/plain": [
       "Downloading (…)\"pytorch_model.bin\";:   0%|          | 0.00/32.3M [00:00<?, ?B/s]"
      ]
     },
     "metadata": {},
     "output_type": "display_data"
    },
    {
     "data": {
      "text/html": [
       "\n",
       "                <div id=\"midiPlayerDiv33868\"></div>\n",
       "                <link rel=\"stylesheet\" href=\"//cuthbertLab.github.io/music21j/css/m21.css\"\n",
       "                    type=\"text/css\" />\n",
       "                \n",
       "                <script>\n",
       "                require.config({\n",
       "                    paths: {'music21': '//cuthbertLab.github.io/music21j/src/music21'}\n",
       "                });\n",
       "                require(['music21'], function() {\n",
       "                               mp = new music21.miditools.MidiPlayer();\n",
       "                               mp.addPlayer(\"#midiPlayerDiv33868\");\n",
       "                               mp.base64Load(\"data:audio/midi;base64,TVRoZAAAAAYAAQAFBABNVHJrAAAAFAD/UQMN3yMA/1gEBAIYCIgA/y8ATVRyawAAAOkA/wMAAOAAQADAAIgAkENaggCAQwAAkEdaggCARwAAkENaggCAQwAAkEpaggCASgAAkEVaggCARQAAkEdaggCARwAAkEpahACASgAAkD5aggCAPgAAkENaggCAQwAAkEVahgCARQAAkENahACAQwAAkEJaggCAQgAAkDpaggCAOgAAkD5aiACAPgAAkD5aggCAPgAAkEBaggCAQAAAkDlaggCAOQAAkDdaggCANwAAkDpaggCAOgAAkDlaggCAOQAAkDZahACANgAAkDdaggCANwAAkC5aggCALgAAkC1aggCALQCIAP8vAE1UcmsAAADpAP8DAADgAEAAwACIAJBDWoIAgEMAAJBHWoIAgEcAAJBDWoIAgEMAAJBKWoIAgEoAAJBFWoIAgEUAAJBHWoIAgEcAAJBKWoQAgEoAAJA+WoIAgD4AAJBDWoIAgEMAAJBFWoYAgEUAAJBDWoQAgEMAAJBCWoIAgEIAAJA6WoIAgDoAAJA+WogAgD4AAJA+WoIAgD4AAJBAWoIAgEAAAJA5WoIAgDkAAJA3WoIAgDcAAJArWoIAgCsAAJA5WoIAgDkAAJA2WoQAgDYAAJA3WoIAgDcAAJAuWoIAgC4AAJAtWoIAgC0AiAD/LwBNVHJrAAAA4AD/AwAA4ABAAMAAiACQQ1qCAIBDAACQR1qCAIBHAACQRlqCAIBGAACQSlqCAIBKAACQRVqCAIBFAACQR1qCAIBHAACQSlqEAIBKAACQPlqCAIA+AACQQlqCAIBCAACQRVqCAIBFAACQQ1qCAIBDAACQQlqCAIBCAACQQ1qEAIBDAACQQlqCAIBCAACQOlqCAIA6AACQPlqIAIA+AACQPFqCAIA8AACQOVqIAIA5AACQN1qCAIA3AACQNlqEAIA2AACQN1qCAIA3AACQLlqCAIAuAACQLVqCAIAtAIgA/y8ATVRyawAAANcA/wMAAOAAQADAAIgAkENaggCAQwAAkEdaggCARwAAkEZaggCARgAAkEVahACARQAAkEdaggCARwAAkEpahACASgAAkD5aggCAPgAAkEJaggCAQgAAkEVaggCARQAAkENaggCAQwAAkEJaggCAQgAAkENahACAQwAAkEJaggCAQgAAkDpaggCAOgAAkD5aiACAPgAAkDxaggCAPAAAkDlaiACAOQAAkDdaggCANwAAkDZahACANgAAkDdaggCANwAAkC5aggCALgAAkC1aggCALQCIAP8vAA==\");\n",
       "                        });\n",
       "                </script>"
      ],
      "text/plain": [
       "<IPython.core.display.HTML object>"
      ]
     },
     "metadata": {},
     "output_type": "display_data"
    }
   ],
   "source": [
    "#加载训练好的模型\n",
    "gen = Model.from_pretrained('lansinuote/gen.7.musegan').gen\n",
    "with torch.no_grad():\n",
    "    #这里的b必须要大于1,否则BatchNorm层的计算会出错\n",
    "    chord = torch.rand(2, 32)\n",
    "    style = torch.rand(2, 32)\n",
    "    melody = torch.rand(2, 4, 32)\n",
    "    groove = torch.rand(2, 4, 32)\n",
    "\n",
    "    #[2, 4, 2, 16, 84]\n",
    "    pred = gen(chord, style, melody, groove)\n",
    "    show(pred[0])"
   ]
  }
 ],
 "metadata": {
  "kernelspec": {
   "display_name": "Python [conda env:pt39]",
   "language": "python",
   "name": "conda-env-pt39-py"
  },
  "language_info": {
   "codemirror_mode": {
    "name": "ipython",
    "version": 3
   },
   "file_extension": ".py",
   "mimetype": "text/x-python",
   "name": "python",
   "nbconvert_exporter": "python",
   "pygments_lexer": "ipython3",
   "version": "3.9.13"
  }
 },
 "nbformat": 4,
 "nbformat_minor": 5
}
